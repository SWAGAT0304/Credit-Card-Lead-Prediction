{
 "cells": [
  {
   "cell_type": "markdown",
   "id": "4f0f4fcc",
   "metadata": {},
   "source": [
    "# Credit Card Lead Prediction"
   ]
  },
  {
   "cell_type": "markdown",
   "id": "a953f987",
   "metadata": {},
   "source": [
    "Happy Customer Bank is a mid-sized private bank that deals in all kinds of banking products, like Savings accounts, Current accounts, investment products, credit products, among other offerings.\n",
    "\n",
    "\n",
    "The bank also cross-sells products to its existing customers and to do so they use different kinds of communication like tele-calling, e-mails, recommendations on net banking, mobile banking, etc. \n",
    "\n",
    "In this case, the Happy Customer Bank wants to cross sell its credit cards to its existing customers. The bank has identified a set of customers that are eligible for taking these credit cards.\n",
    "\n",
    "Now, the bank is looking for your help in identifying customers that could show higher intent towards a recommended credit card, given:\n",
    "\n",
    "Customer details (gender, age, region etc.)\n",
    "Details of his/her relationship with the bank (Channel_Code,Vintage, 'Avg_Asset_Value etc.)"
   ]
  },
  {
   "cell_type": "markdown",
   "id": "c9543e16",
   "metadata": {},
   "source": [
    "## Data Dictionary\n",
    "\n",
    "\n",
    "ID Unique Identifier for a row\n",
    "\n",
    "Gender Gender of the Customer\n",
    "\n",
    "Age Age of the Customer (in Years)\n",
    "\n",
    "Region_Code Code of the Region for the customers\n",
    "\n",
    "Occupation Occupation Type for the customer\n",
    "\n",
    "Channel_Code Acquisition Channel Code for the Customer  (Encoded)\n",
    "\n",
    "Vintage  Vintage for the Customer (In Months)\n",
    "\n",
    "Credit_Product If the Customer has any active credit product (Home loan,Personal loan, Credit Card etc.)\n",
    "\n",
    "Avg_Account_Balance Average Account Balance for the Customer in last 12 Months\n",
    "\n",
    "Is_Active If the Customer is Active in last 3 Months\n",
    "\n",
    "Is_Lead(Target) If the Customer is interested for the Credit Card\n",
    "\n",
    "0 : Customer is not interested\n",
    "\n",
    "1 : Customer is interested"
   ]
  },
  {
   "cell_type": "code",
   "execution_count": 1,
   "id": "55d87e3f",
   "metadata": {},
   "outputs": [],
   "source": [
    "import numpy as np\n",
    "import pandas as pd\n",
    "import seaborn as sns\n",
    "sns.set_style('darkgrid')\n",
    "import matplotlib.pyplot as plt\n",
    "%matplotlib inline\n",
    "sns.set(color_codes=True)\n",
    "from sklearn.metrics import accuracy_score, f1_score, confusion_matrix, recall_score, precision_score\n",
    "\n",
    "import warnings\n",
    "warnings.filterwarnings('ignore')"
   ]
  },
  {
   "cell_type": "markdown",
   "id": "1b057ffc",
   "metadata": {},
   "source": [
    "## Data Understanding"
   ]
  },
  {
   "cell_type": "code",
   "execution_count": 2,
   "id": "4e406540",
   "metadata": {
    "scrolled": true
   },
   "outputs": [
    {
     "data": {
      "text/html": [
       "<div>\n",
       "<style scoped>\n",
       "    .dataframe tbody tr th:only-of-type {\n",
       "        vertical-align: middle;\n",
       "    }\n",
       "\n",
       "    .dataframe tbody tr th {\n",
       "        vertical-align: top;\n",
       "    }\n",
       "\n",
       "    .dataframe thead th {\n",
       "        text-align: right;\n",
       "    }\n",
       "</style>\n",
       "<table border=\"1\" class=\"dataframe\">\n",
       "  <thead>\n",
       "    <tr style=\"text-align: right;\">\n",
       "      <th></th>\n",
       "      <th>ID</th>\n",
       "      <th>Gender</th>\n",
       "      <th>Age</th>\n",
       "      <th>Region_Code</th>\n",
       "      <th>Occupation</th>\n",
       "      <th>Channel_Code</th>\n",
       "      <th>Vintage</th>\n",
       "      <th>Credit_Product</th>\n",
       "      <th>Avg_Account_Balance</th>\n",
       "      <th>Is_Active</th>\n",
       "      <th>Is_Lead</th>\n",
       "    </tr>\n",
       "  </thead>\n",
       "  <tbody>\n",
       "    <tr>\n",
       "      <th>0</th>\n",
       "      <td>NNVBBKZB</td>\n",
       "      <td>Female</td>\n",
       "      <td>73</td>\n",
       "      <td>RG268</td>\n",
       "      <td>Other</td>\n",
       "      <td>X3</td>\n",
       "      <td>43</td>\n",
       "      <td>No</td>\n",
       "      <td>1045696</td>\n",
       "      <td>No</td>\n",
       "      <td>0</td>\n",
       "    </tr>\n",
       "    <tr>\n",
       "      <th>1</th>\n",
       "      <td>IDD62UNG</td>\n",
       "      <td>Female</td>\n",
       "      <td>30</td>\n",
       "      <td>RG277</td>\n",
       "      <td>Salaried</td>\n",
       "      <td>X1</td>\n",
       "      <td>32</td>\n",
       "      <td>No</td>\n",
       "      <td>581988</td>\n",
       "      <td>No</td>\n",
       "      <td>0</td>\n",
       "    </tr>\n",
       "    <tr>\n",
       "      <th>2</th>\n",
       "      <td>HD3DSEMC</td>\n",
       "      <td>Female</td>\n",
       "      <td>56</td>\n",
       "      <td>RG268</td>\n",
       "      <td>Self_Employed</td>\n",
       "      <td>X3</td>\n",
       "      <td>26</td>\n",
       "      <td>No</td>\n",
       "      <td>1484315</td>\n",
       "      <td>Yes</td>\n",
       "      <td>0</td>\n",
       "    </tr>\n",
       "    <tr>\n",
       "      <th>3</th>\n",
       "      <td>BF3NC7KV</td>\n",
       "      <td>Male</td>\n",
       "      <td>34</td>\n",
       "      <td>RG270</td>\n",
       "      <td>Salaried</td>\n",
       "      <td>X1</td>\n",
       "      <td>19</td>\n",
       "      <td>No</td>\n",
       "      <td>470454</td>\n",
       "      <td>No</td>\n",
       "      <td>0</td>\n",
       "    </tr>\n",
       "    <tr>\n",
       "      <th>4</th>\n",
       "      <td>TEASRWXV</td>\n",
       "      <td>Female</td>\n",
       "      <td>30</td>\n",
       "      <td>RG282</td>\n",
       "      <td>Salaried</td>\n",
       "      <td>X1</td>\n",
       "      <td>33</td>\n",
       "      <td>No</td>\n",
       "      <td>886787</td>\n",
       "      <td>No</td>\n",
       "      <td>0</td>\n",
       "    </tr>\n",
       "  </tbody>\n",
       "</table>\n",
       "</div>"
      ],
      "text/plain": [
       "         ID  Gender  Age Region_Code     Occupation Channel_Code  Vintage  \\\n",
       "0  NNVBBKZB  Female   73       RG268          Other           X3       43   \n",
       "1  IDD62UNG  Female   30       RG277       Salaried           X1       32   \n",
       "2  HD3DSEMC  Female   56       RG268  Self_Employed           X3       26   \n",
       "3  BF3NC7KV    Male   34       RG270       Salaried           X1       19   \n",
       "4  TEASRWXV  Female   30       RG282       Salaried           X1       33   \n",
       "\n",
       "  Credit_Product  Avg_Account_Balance Is_Active  Is_Lead  \n",
       "0             No              1045696        No        0  \n",
       "1             No               581988        No        0  \n",
       "2             No              1484315       Yes        0  \n",
       "3             No               470454        No        0  \n",
       "4             No               886787        No        0  "
      ]
     },
     "execution_count": 2,
     "metadata": {},
     "output_type": "execute_result"
    }
   ],
   "source": [
    "##Loading data from train.csv file Train\n",
    "\n",
    "df = pd.read_csv(\"train.csv\")\n",
    "df.head()"
   ]
  },
  {
   "cell_type": "code",
   "execution_count": 3,
   "id": "99f12d98",
   "metadata": {},
   "outputs": [
    {
     "data": {
      "text/html": [
       "<div>\n",
       "<style scoped>\n",
       "    .dataframe tbody tr th:only-of-type {\n",
       "        vertical-align: middle;\n",
       "    }\n",
       "\n",
       "    .dataframe tbody tr th {\n",
       "        vertical-align: top;\n",
       "    }\n",
       "\n",
       "    .dataframe thead th {\n",
       "        text-align: right;\n",
       "    }\n",
       "</style>\n",
       "<table border=\"1\" class=\"dataframe\">\n",
       "  <thead>\n",
       "    <tr style=\"text-align: right;\">\n",
       "      <th></th>\n",
       "      <th>ID</th>\n",
       "      <th>Gender</th>\n",
       "      <th>Age</th>\n",
       "      <th>Region_Code</th>\n",
       "      <th>Occupation</th>\n",
       "      <th>Channel_Code</th>\n",
       "      <th>Vintage</th>\n",
       "      <th>Credit_Product</th>\n",
       "      <th>Avg_Account_Balance</th>\n",
       "      <th>Is_Active</th>\n",
       "    </tr>\n",
       "  </thead>\n",
       "  <tbody>\n",
       "    <tr>\n",
       "      <th>0</th>\n",
       "      <td>VBENBARO</td>\n",
       "      <td>Male</td>\n",
       "      <td>29</td>\n",
       "      <td>RG254</td>\n",
       "      <td>Other</td>\n",
       "      <td>X1</td>\n",
       "      <td>25</td>\n",
       "      <td>Yes</td>\n",
       "      <td>742366</td>\n",
       "      <td>No</td>\n",
       "    </tr>\n",
       "    <tr>\n",
       "      <th>1</th>\n",
       "      <td>CCMEWNKY</td>\n",
       "      <td>Male</td>\n",
       "      <td>43</td>\n",
       "      <td>RG268</td>\n",
       "      <td>Other</td>\n",
       "      <td>X2</td>\n",
       "      <td>49</td>\n",
       "      <td>NaN</td>\n",
       "      <td>925537</td>\n",
       "      <td>No</td>\n",
       "    </tr>\n",
       "    <tr>\n",
       "      <th>2</th>\n",
       "      <td>VK3KGA9M</td>\n",
       "      <td>Male</td>\n",
       "      <td>31</td>\n",
       "      <td>RG270</td>\n",
       "      <td>Salaried</td>\n",
       "      <td>X1</td>\n",
       "      <td>14</td>\n",
       "      <td>No</td>\n",
       "      <td>215949</td>\n",
       "      <td>No</td>\n",
       "    </tr>\n",
       "    <tr>\n",
       "      <th>3</th>\n",
       "      <td>TT8RPZVC</td>\n",
       "      <td>Male</td>\n",
       "      <td>29</td>\n",
       "      <td>RG272</td>\n",
       "      <td>Other</td>\n",
       "      <td>X1</td>\n",
       "      <td>33</td>\n",
       "      <td>No</td>\n",
       "      <td>868070</td>\n",
       "      <td>No</td>\n",
       "    </tr>\n",
       "    <tr>\n",
       "      <th>4</th>\n",
       "      <td>SHQZEYTZ</td>\n",
       "      <td>Female</td>\n",
       "      <td>29</td>\n",
       "      <td>RG270</td>\n",
       "      <td>Other</td>\n",
       "      <td>X1</td>\n",
       "      <td>19</td>\n",
       "      <td>No</td>\n",
       "      <td>657087</td>\n",
       "      <td>No</td>\n",
       "    </tr>\n",
       "  </tbody>\n",
       "</table>\n",
       "</div>"
      ],
      "text/plain": [
       "         ID  Gender  Age Region_Code Occupation Channel_Code  Vintage  \\\n",
       "0  VBENBARO    Male   29       RG254      Other           X1       25   \n",
       "1  CCMEWNKY    Male   43       RG268      Other           X2       49   \n",
       "2  VK3KGA9M    Male   31       RG270   Salaried           X1       14   \n",
       "3  TT8RPZVC    Male   29       RG272      Other           X1       33   \n",
       "4  SHQZEYTZ  Female   29       RG270      Other           X1       19   \n",
       "\n",
       "  Credit_Product  Avg_Account_Balance Is_Active  \n",
       "0            Yes               742366        No  \n",
       "1            NaN               925537        No  \n",
       "2             No               215949        No  \n",
       "3             No               868070        No  \n",
       "4             No               657087        No  "
      ]
     },
     "execution_count": 3,
     "metadata": {},
     "output_type": "execute_result"
    }
   ],
   "source": [
    "#Loading data from test.csv file \n",
    "test = pd.read_csv(\"test.csv\")\n",
    "test.head()"
   ]
  },
  {
   "cell_type": "code",
   "execution_count": 4,
   "id": "7c4d4747",
   "metadata": {},
   "outputs": [
    {
     "data": {
      "text/html": [
       "<div>\n",
       "<style scoped>\n",
       "    .dataframe tbody tr th:only-of-type {\n",
       "        vertical-align: middle;\n",
       "    }\n",
       "\n",
       "    .dataframe tbody tr th {\n",
       "        vertical-align: top;\n",
       "    }\n",
       "\n",
       "    .dataframe thead th {\n",
       "        text-align: right;\n",
       "    }\n",
       "</style>\n",
       "<table border=\"1\" class=\"dataframe\">\n",
       "  <thead>\n",
       "    <tr style=\"text-align: right;\">\n",
       "      <th></th>\n",
       "      <th>ID</th>\n",
       "      <th>Is_Lead</th>\n",
       "    </tr>\n",
       "  </thead>\n",
       "  <tbody>\n",
       "    <tr>\n",
       "      <th>0</th>\n",
       "      <td>VBENBARO</td>\n",
       "      <td>0</td>\n",
       "    </tr>\n",
       "    <tr>\n",
       "      <th>1</th>\n",
       "      <td>CCMEWNKY</td>\n",
       "      <td>0</td>\n",
       "    </tr>\n",
       "    <tr>\n",
       "      <th>2</th>\n",
       "      <td>VK3KGA9M</td>\n",
       "      <td>0</td>\n",
       "    </tr>\n",
       "    <tr>\n",
       "      <th>3</th>\n",
       "      <td>TT8RPZVC</td>\n",
       "      <td>0</td>\n",
       "    </tr>\n",
       "    <tr>\n",
       "      <th>4</th>\n",
       "      <td>SHQZEYTZ</td>\n",
       "      <td>0</td>\n",
       "    </tr>\n",
       "  </tbody>\n",
       "</table>\n",
       "</div>"
      ],
      "text/plain": [
       "         ID  Is_Lead\n",
       "0  VBENBARO        0\n",
       "1  CCMEWNKY        0\n",
       "2  VK3KGA9M        0\n",
       "3  TT8RPZVC        0\n",
       "4  SHQZEYTZ        0"
      ]
     },
     "execution_count": 4,
     "metadata": {},
     "output_type": "execute_result"
    }
   ],
   "source": [
    "# Loading data from submission.csv file\n",
    "\n",
    "submission_df = pd.read_csv(\"sample_submission_eyYijxG_UYrG05O_mfI9LlW.csv\")\n",
    "submission_df.head()"
   ]
  },
  {
   "cell_type": "code",
   "execution_count": 5,
   "id": "ae3cba51",
   "metadata": {},
   "outputs": [
    {
     "data": {
      "text/plain": [
       "(245725, 11)"
      ]
     },
     "execution_count": 5,
     "metadata": {},
     "output_type": "execute_result"
    }
   ],
   "source": [
    "df.shape"
   ]
  },
  {
   "cell_type": "code",
   "execution_count": 6,
   "id": "937974c9",
   "metadata": {},
   "outputs": [
    {
     "data": {
      "text/plain": [
       "(105312, 10)"
      ]
     },
     "execution_count": 6,
     "metadata": {},
     "output_type": "execute_result"
    }
   ],
   "source": [
    "test.shape"
   ]
  },
  {
   "cell_type": "code",
   "execution_count": 7,
   "id": "2d5ecbc7",
   "metadata": {},
   "outputs": [
    {
     "name": "stdout",
     "output_type": "stream",
     "text": [
      "<class 'pandas.core.frame.DataFrame'>\n",
      "RangeIndex: 245725 entries, 0 to 245724\n",
      "Data columns (total 11 columns):\n",
      " #   Column               Non-Null Count   Dtype \n",
      "---  ------               --------------   ----- \n",
      " 0   ID                   245725 non-null  object\n",
      " 1   Gender               245725 non-null  object\n",
      " 2   Age                  245725 non-null  int64 \n",
      " 3   Region_Code          245725 non-null  object\n",
      " 4   Occupation           245725 non-null  object\n",
      " 5   Channel_Code         245725 non-null  object\n",
      " 6   Vintage              245725 non-null  int64 \n",
      " 7   Credit_Product       216400 non-null  object\n",
      " 8   Avg_Account_Balance  245725 non-null  int64 \n",
      " 9   Is_Active            245725 non-null  object\n",
      " 10  Is_Lead              245725 non-null  int64 \n",
      "dtypes: int64(4), object(7)\n",
      "memory usage: 20.6+ MB\n"
     ]
    }
   ],
   "source": [
    "df.info()"
   ]
  },
  {
   "cell_type": "code",
   "execution_count": 8,
   "id": "ff9dcab9",
   "metadata": {},
   "outputs": [
    {
     "name": "stdout",
     "output_type": "stream",
     "text": [
      "<class 'pandas.core.frame.DataFrame'>\n",
      "RangeIndex: 105312 entries, 0 to 105311\n",
      "Data columns (total 10 columns):\n",
      " #   Column               Non-Null Count   Dtype \n",
      "---  ------               --------------   ----- \n",
      " 0   ID                   105312 non-null  object\n",
      " 1   Gender               105312 non-null  object\n",
      " 2   Age                  105312 non-null  int64 \n",
      " 3   Region_Code          105312 non-null  object\n",
      " 4   Occupation           105312 non-null  object\n",
      " 5   Channel_Code         105312 non-null  object\n",
      " 6   Vintage              105312 non-null  int64 \n",
      " 7   Credit_Product       92790 non-null   object\n",
      " 8   Avg_Account_Balance  105312 non-null  int64 \n",
      " 9   Is_Active            105312 non-null  object\n",
      "dtypes: int64(3), object(7)\n",
      "memory usage: 8.0+ MB\n"
     ]
    }
   ],
   "source": [
    "test.info()"
   ]
  },
  {
   "cell_type": "code",
   "execution_count": 9,
   "id": "7f04daa3",
   "metadata": {},
   "outputs": [
    {
     "data": {
      "text/html": [
       "<div>\n",
       "<style scoped>\n",
       "    .dataframe tbody tr th:only-of-type {\n",
       "        vertical-align: middle;\n",
       "    }\n",
       "\n",
       "    .dataframe tbody tr th {\n",
       "        vertical-align: top;\n",
       "    }\n",
       "\n",
       "    .dataframe thead th {\n",
       "        text-align: right;\n",
       "    }\n",
       "</style>\n",
       "<table border=\"1\" class=\"dataframe\">\n",
       "  <thead>\n",
       "    <tr style=\"text-align: right;\">\n",
       "      <th></th>\n",
       "      <th>Age</th>\n",
       "      <th>Vintage</th>\n",
       "      <th>Avg_Account_Balance</th>\n",
       "      <th>Is_Lead</th>\n",
       "    </tr>\n",
       "  </thead>\n",
       "  <tbody>\n",
       "    <tr>\n",
       "      <th>count</th>\n",
       "      <td>245725.000000</td>\n",
       "      <td>245725.000000</td>\n",
       "      <td>2.457250e+05</td>\n",
       "      <td>245725.000000</td>\n",
       "    </tr>\n",
       "    <tr>\n",
       "      <th>mean</th>\n",
       "      <td>43.856307</td>\n",
       "      <td>46.959141</td>\n",
       "      <td>1.128403e+06</td>\n",
       "      <td>0.237208</td>\n",
       "    </tr>\n",
       "    <tr>\n",
       "      <th>std</th>\n",
       "      <td>14.828672</td>\n",
       "      <td>32.353136</td>\n",
       "      <td>8.529364e+05</td>\n",
       "      <td>0.425372</td>\n",
       "    </tr>\n",
       "    <tr>\n",
       "      <th>min</th>\n",
       "      <td>23.000000</td>\n",
       "      <td>7.000000</td>\n",
       "      <td>2.079000e+04</td>\n",
       "      <td>0.000000</td>\n",
       "    </tr>\n",
       "    <tr>\n",
       "      <th>25%</th>\n",
       "      <td>30.000000</td>\n",
       "      <td>20.000000</td>\n",
       "      <td>6.043100e+05</td>\n",
       "      <td>0.000000</td>\n",
       "    </tr>\n",
       "    <tr>\n",
       "      <th>50%</th>\n",
       "      <td>43.000000</td>\n",
       "      <td>32.000000</td>\n",
       "      <td>8.946010e+05</td>\n",
       "      <td>0.000000</td>\n",
       "    </tr>\n",
       "    <tr>\n",
       "      <th>75%</th>\n",
       "      <td>54.000000</td>\n",
       "      <td>73.000000</td>\n",
       "      <td>1.366666e+06</td>\n",
       "      <td>0.000000</td>\n",
       "    </tr>\n",
       "    <tr>\n",
       "      <th>max</th>\n",
       "      <td>85.000000</td>\n",
       "      <td>135.000000</td>\n",
       "      <td>1.035201e+07</td>\n",
       "      <td>1.000000</td>\n",
       "    </tr>\n",
       "  </tbody>\n",
       "</table>\n",
       "</div>"
      ],
      "text/plain": [
       "                 Age        Vintage  Avg_Account_Balance        Is_Lead\n",
       "count  245725.000000  245725.000000         2.457250e+05  245725.000000\n",
       "mean       43.856307      46.959141         1.128403e+06       0.237208\n",
       "std        14.828672      32.353136         8.529364e+05       0.425372\n",
       "min        23.000000       7.000000         2.079000e+04       0.000000\n",
       "25%        30.000000      20.000000         6.043100e+05       0.000000\n",
       "50%        43.000000      32.000000         8.946010e+05       0.000000\n",
       "75%        54.000000      73.000000         1.366666e+06       0.000000\n",
       "max        85.000000     135.000000         1.035201e+07       1.000000"
      ]
     },
     "execution_count": 9,
     "metadata": {},
     "output_type": "execute_result"
    }
   ],
   "source": [
    "df.describe()"
   ]
  },
  {
   "cell_type": "code",
   "execution_count": 10,
   "id": "9d6fe80f",
   "metadata": {},
   "outputs": [
    {
     "data": {
      "text/html": [
       "<div>\n",
       "<style scoped>\n",
       "    .dataframe tbody tr th:only-of-type {\n",
       "        vertical-align: middle;\n",
       "    }\n",
       "\n",
       "    .dataframe tbody tr th {\n",
       "        vertical-align: top;\n",
       "    }\n",
       "\n",
       "    .dataframe thead th {\n",
       "        text-align: right;\n",
       "    }\n",
       "</style>\n",
       "<table border=\"1\" class=\"dataframe\">\n",
       "  <thead>\n",
       "    <tr style=\"text-align: right;\">\n",
       "      <th></th>\n",
       "      <th>Age</th>\n",
       "      <th>Vintage</th>\n",
       "      <th>Avg_Account_Balance</th>\n",
       "    </tr>\n",
       "  </thead>\n",
       "  <tbody>\n",
       "    <tr>\n",
       "      <th>count</th>\n",
       "      <td>105312.000000</td>\n",
       "      <td>105312.000000</td>\n",
       "      <td>1.053120e+05</td>\n",
       "    </tr>\n",
       "    <tr>\n",
       "      <th>mean</th>\n",
       "      <td>43.871002</td>\n",
       "      <td>46.842819</td>\n",
       "      <td>1.134195e+06</td>\n",
       "    </tr>\n",
       "    <tr>\n",
       "      <th>std</th>\n",
       "      <td>14.872890</td>\n",
       "      <td>32.273634</td>\n",
       "      <td>8.662430e+05</td>\n",
       "    </tr>\n",
       "    <tr>\n",
       "      <th>min</th>\n",
       "      <td>24.000000</td>\n",
       "      <td>7.000000</td>\n",
       "      <td>2.259700e+04</td>\n",
       "    </tr>\n",
       "    <tr>\n",
       "      <th>25%</th>\n",
       "      <td>30.000000</td>\n",
       "      <td>20.000000</td>\n",
       "      <td>6.039822e+05</td>\n",
       "    </tr>\n",
       "    <tr>\n",
       "      <th>50%</th>\n",
       "      <td>43.000000</td>\n",
       "      <td>32.000000</td>\n",
       "      <td>8.966345e+05</td>\n",
       "    </tr>\n",
       "    <tr>\n",
       "      <th>75%</th>\n",
       "      <td>54.000000</td>\n",
       "      <td>73.000000</td>\n",
       "      <td>1.371598e+06</td>\n",
       "    </tr>\n",
       "    <tr>\n",
       "      <th>max</th>\n",
       "      <td>85.000000</td>\n",
       "      <td>135.000000</td>\n",
       "      <td>9.908858e+06</td>\n",
       "    </tr>\n",
       "  </tbody>\n",
       "</table>\n",
       "</div>"
      ],
      "text/plain": [
       "                 Age        Vintage  Avg_Account_Balance\n",
       "count  105312.000000  105312.000000         1.053120e+05\n",
       "mean       43.871002      46.842819         1.134195e+06\n",
       "std        14.872890      32.273634         8.662430e+05\n",
       "min        24.000000       7.000000         2.259700e+04\n",
       "25%        30.000000      20.000000         6.039822e+05\n",
       "50%        43.000000      32.000000         8.966345e+05\n",
       "75%        54.000000      73.000000         1.371598e+06\n",
       "max        85.000000     135.000000         9.908858e+06"
      ]
     },
     "execution_count": 10,
     "metadata": {},
     "output_type": "execute_result"
    }
   ],
   "source": [
    "test.describe()"
   ]
  },
  {
   "cell_type": "code",
   "execution_count": 11,
   "id": "59b1e3b6",
   "metadata": {},
   "outputs": [
    {
     "data": {
      "text/plain": [
       "ID                         0\n",
       "Gender                     0\n",
       "Age                        0\n",
       "Region_Code                0\n",
       "Occupation                 0\n",
       "Channel_Code               0\n",
       "Vintage                    0\n",
       "Credit_Product         29325\n",
       "Avg_Account_Balance        0\n",
       "Is_Active                  0\n",
       "Is_Lead                    0\n",
       "dtype: int64"
      ]
     },
     "execution_count": 11,
     "metadata": {},
     "output_type": "execute_result"
    }
   ],
   "source": [
    "df.isnull().sum()"
   ]
  },
  {
   "cell_type": "code",
   "execution_count": 12,
   "id": "f597df49",
   "metadata": {},
   "outputs": [
    {
     "data": {
      "text/plain": [
       "ID                         0\n",
       "Gender                     0\n",
       "Age                        0\n",
       "Region_Code                0\n",
       "Occupation                 0\n",
       "Channel_Code               0\n",
       "Vintage                    0\n",
       "Credit_Product         12522\n",
       "Avg_Account_Balance        0\n",
       "Is_Active                  0\n",
       "dtype: int64"
      ]
     },
     "execution_count": 12,
     "metadata": {},
     "output_type": "execute_result"
    }
   ],
   "source": [
    "test.isnull().sum()"
   ]
  },
  {
   "cell_type": "markdown",
   "id": "6888deda",
   "metadata": {},
   "source": [
    "Only the Credit_Product column is having null values."
   ]
  },
  {
   "cell_type": "markdown",
   "id": "a92b10c0",
   "metadata": {},
   "source": [
    "## Checking for Class Imbalance"
   ]
  },
  {
   "cell_type": "code",
   "execution_count": 13,
   "id": "7ae33bd7",
   "metadata": {},
   "outputs": [],
   "source": [
    "leads=df['Is_Lead'].value_counts()\n",
    "lead=leads[0]/df['Is_Lead'].count()*100\n",
    "not_lead=leads[1]/df['Is_Lead'].count()*100"
   ]
  },
  {
   "cell_type": "code",
   "execution_count": 14,
   "id": "c1a3749a",
   "metadata": {},
   "outputs": [
    {
     "data": {
      "text/plain": [
       "(76.27917387323228, 23.720826126767726)"
      ]
     },
     "execution_count": 14,
     "metadata": {},
     "output_type": "execute_result"
    }
   ],
   "source": [
    "lead, not_lead"
   ]
  },
  {
   "cell_type": "markdown",
   "id": "504232ef",
   "metadata": {},
   "source": [
    "## EDA"
   ]
  },
  {
   "cell_type": "code",
   "execution_count": 15,
   "id": "3fd33d58",
   "metadata": {
    "scrolled": true
   },
   "outputs": [
    {
     "data": {
      "text/plain": [
       "['ID',\n",
       " 'Gender',\n",
       " 'Age',\n",
       " 'Region_Code',\n",
       " 'Occupation',\n",
       " 'Channel_Code',\n",
       " 'Vintage',\n",
       " 'Credit_Product',\n",
       " 'Avg_Account_Balance',\n",
       " 'Is_Active',\n",
       " 'Is_Lead']"
      ]
     },
     "execution_count": 15,
     "metadata": {},
     "output_type": "execute_result"
    }
   ],
   "source": [
    "list(df.columns)"
   ]
  },
  {
   "cell_type": "code",
   "execution_count": 16,
   "id": "bec67beb",
   "metadata": {},
   "outputs": [
    {
     "data": {
      "text/plain": [
       "<AxesSubplot:xlabel='Is_Active', ylabel='count'>"
      ]
     },
     "execution_count": 16,
     "metadata": {},
     "output_type": "execute_result"
    },
    {
     "data": {
      "image/png": "[encoded data removed]",
      "text/plain": [
       "<Figure size 864x720 with 6 Axes>"
      ]
     },
     "metadata": {},
     "output_type": "display_data"
    }
   ],
   "source": [
    "# for train data\n",
    "\n",
    "fig,ax = plt.subplots(3,2,figsize=(12,10))\n",
    "sns.countplot('Is_Lead',data=df,ax=ax[0][0])\n",
    "sns.countplot('Gender',data=df, ax=ax[0][1])\n",
    "sns.countplot('Occupation',data=df,ax=ax[1][0])\n",
    "sns.countplot('Channel_Code',data=df,ax=ax[1][1])\n",
    "sns.countplot('Credit_Product',data=df,ax=ax[2][0])\n",
    "sns.countplot('Is_Active',data=df,ax=ax[2][1])"
   ]
  },
  {
   "cell_type": "markdown",
   "id": "6a670b92",
   "metadata": {},
   "source": [
    "- In Is_Lead the majority class is 0.\n",
    "- In Gender Variable the majority class is Male.\n",
    "- In occupation variable the majority class is Self_employed.\n",
    "- In Channel_code the majority class is X1.\n",
    "- In Credit_product the majority class is No.\n",
    "- In Is_Active variable majority class is No."
   ]
  },
  {
   "cell_type": "code",
   "execution_count": 17,
   "id": "9d6e2626",
   "metadata": {},
   "outputs": [
    {
     "data": {
      "text/plain": [
       "<AxesSubplot:xlabel='Is_Active', ylabel='count'>"
      ]
     },
     "execution_count": 17,
     "metadata": {},
     "output_type": "execute_result"
    },
    {
     "data": {
      "image/png": "[encoded data removed]",
      "text/plain": [
       "<Figure size 864x720 with 6 Axes>"
      ]
     },
     "metadata": {},
     "output_type": "display_data"
    }
   ],
   "source": [
    "# for test data\n",
    "\n",
    "fig,ax = plt.subplots(3,2,figsize=(12,10))\n",
    "sns.countplot('Gender',data=test, ax=ax[0][0])\n",
    "sns.countplot('Occupation',data=test,ax=ax[0][1])\n",
    "sns.countplot('Channel_Code',data=test,ax=ax[1][0])\n",
    "sns.countplot('Credit_Product',data=test,ax=ax[1][1])\n",
    "sns.countplot('Is_Active',data=test,ax=ax[2][0])"
   ]
  },
  {
   "cell_type": "code",
   "execution_count": 18,
   "id": "93f0e2cf",
   "metadata": {
    "scrolled": false
   },
   "outputs": [
    {
     "data": {
      "text/plain": [
       "<AxesSubplot:xlabel='Is_Active', ylabel='count'>"
      ]
     },
     "execution_count": 18,
     "metadata": {},
     "output_type": "execute_result"
    },
    {
     "data": {
      "image/png": "[encoded data removed]",
      "text/plain": [
       "<Figure size 864x720 with 6 Axes>"
      ]
     },
     "metadata": {},
     "output_type": "display_data"
    }
   ],
   "source": [
    "# for train data\n",
    "\n",
    "fig,ax = plt.subplots(3,2,figsize=(12,10))\n",
    "sns.countplot('Gender',data=df,hue ='Is_Lead', ax=ax[0][0])\n",
    "sns.countplot('Occupation',data=df,hue ='Is_Lead',ax=ax[0][1])\n",
    "sns.countplot('Channel_Code',data=df,hue ='Is_Lead',ax=ax[1][0])\n",
    "sns.countplot('Credit_Product',data=df,hue ='Is_Lead',ax=ax[1][1])\n",
    "sns.countplot('Is_Active',data=df,hue ='Is_Lead',ax=ax[2][0])"
   ]
  },
  {
   "cell_type": "markdown",
   "id": "6a573e12",
   "metadata": {},
   "source": [
    "- From gender variable we can see that Male section has more number of leads that Female section.\n",
    "- From Occupation variable Entrepreneur section has better lead counts compared to not leads. Max number of leads are generated from Self_employed section followed by Other section.\n",
    "- In Channel_Code variable maximum number of leads are generated from X3 followed by X2, where as X1 has maximum number of not_leads.\n",
    "- From Credit_Product variable we can observe people having credit_products are becoming a lead."
   ]
  },
  {
   "cell_type": "code",
   "execution_count": 19,
   "id": "19d43518",
   "metadata": {
    "scrolled": true
   },
   "outputs": [
    {
     "data": {
      "image/png": "[encoded data removed]",
      "text/plain": [
       "<Figure size 1400x1200 with 3 Axes>"
      ]
     },
     "metadata": {},
     "output_type": "display_data"
    }
   ],
   "source": [
    "# for train data\n",
    "\n",
    "num_col = [\"Vintage\" , \"Avg_Account_Balance\", \"Age\"]\n",
    "\n",
    "plt.figure(figsize=(14, 12), dpi=100)\n",
    "for i, feature in enumerate(num_col):\n",
    "    plt.subplot(3, 3, i+1)\n",
    "    sns.distplot(df[feature])\n"
   ]
  },
  {
   "cell_type": "code",
   "execution_count": 20,
   "id": "611d6bf5",
   "metadata": {},
   "outputs": [
    {
     "data": {
      "image/png": "[encoded data removed]",
      "text/plain": [
       "<Figure size 1400x1200 with 3 Axes>"
      ]
     },
     "metadata": {},
     "output_type": "display_data"
    }
   ],
   "source": [
    "# for test data\n",
    "\n",
    "num_col = [\"Vintage\" , \"Avg_Account_Balance\", \"Age\"]\n",
    "\n",
    "plt.figure(figsize=(14, 12), dpi=100)\n",
    "for i, feature in enumerate(num_col):\n",
    "    plt.subplot(3, 3, i+1)\n",
    "    sns.distplot(test[feature])\n"
   ]
  },
  {
   "cell_type": "code",
   "execution_count": 21,
   "id": "5a6a99c1",
   "metadata": {},
   "outputs": [
    {
     "data": {
      "image/png": "[encoded data removed]",
      "text/plain": [
       "<Figure size 1400x1200 with 3 Axes>"
      ]
     },
     "metadata": {},
     "output_type": "display_data"
    }
   ],
   "source": [
    "#box plot for train data\n",
    "\n",
    "\n",
    "plt.figure(figsize=(14, 12), dpi=100)\n",
    "for i, feature in enumerate(num_col):\n",
    "    plt.subplot(3, 3, i+1)\n",
    "    sns.boxplot(df[feature])\n"
   ]
  },
  {
   "cell_type": "code",
   "execution_count": 22,
   "id": "45c07f6b",
   "metadata": {},
   "outputs": [
    {
     "data": {
      "image/png": "[encoded data removed]",
      "text/plain": [
       "<Figure size 1400x1200 with 3 Axes>"
      ]
     },
     "metadata": {},
     "output_type": "display_data"
    }
   ],
   "source": [
    "# plot box plot for test data\n",
    "\n",
    "\n",
    "plt.figure(figsize=(14, 12), dpi=100)\n",
    "for i, feature in enumerate(num_col):\n",
    "    plt.subplot(3, 3, i+1)\n",
    "    sns.boxplot(test[feature])\n"
   ]
  },
  {
   "cell_type": "code",
   "execution_count": 23,
   "id": "88a81a60",
   "metadata": {},
   "outputs": [
    {
     "data": {
      "image/png": "[encoded data removed]",
      "text/plain": [
       "<Figure size 1296x504 with 1 Axes>"
      ]
     },
     "metadata": {},
     "output_type": "display_data"
    }
   ],
   "source": [
    "#for train data\n",
    "\n",
    "cat_col_1 = ['Region_Code']\n",
    "\n",
    "for cols in cat_col_1:\n",
    "    plt.figure(figsize=(18,7))\n",
    "    sns.countplot(x=cols, order = df[cols].value_counts().index, data=df, palette=\"hls\")\n",
    "    plt.ylabel(\"Count\", fontsize=15) # Seting the ytitle and size\n",
    "    plt.xticks(fontsize=8)\n",
    "    plt.yticks(fontsize=12)\n",
    "    plt.xticks(rotation=45)\n",
    "    plt.show()"
   ]
  },
  {
   "cell_type": "code",
   "execution_count": 24,
   "id": "dfb2b1f9",
   "metadata": {},
   "outputs": [
    {
     "data": {
      "image/png": "[encoded data removed]",
      "text/plain": [
       "<Figure size 1296x504 with 1 Axes>"
      ]
     },
     "metadata": {},
     "output_type": "display_data"
    }
   ],
   "source": [
    "#for test data\n",
    "\n",
    "cat_col_1 = ['Region_Code']\n",
    "\n",
    "for cols in cat_col_1:\n",
    "    plt.figure(figsize=(18,7))\n",
    "    sns.countplot(x=cols, order = test[cols].value_counts().index, data=test, palette=\"hls\")\n",
    "    plt.ylabel(\"Count\", fontsize=15) # Seting the ytitle and size\n",
    "    plt.xticks(fontsize=8)\n",
    "    plt.yticks(fontsize=12)\n",
    "    plt.xticks(rotation=45)\n",
    "    plt.show()"
   ]
  },
  {
   "cell_type": "code",
   "execution_count": 25,
   "id": "07bded3a",
   "metadata": {
    "scrolled": false
   },
   "outputs": [
    {
     "data": {
      "text/plain": [
       "<AxesSubplot:xlabel='Region_Code', ylabel='count'>"
      ]
     },
     "execution_count": 25,
     "metadata": {},
     "output_type": "execute_result"
    },
    {
     "data": {
      "image/png": "[encoded data removed]",
      "text/plain": [
       "<Figure size 1800x720 with 1 Axes>"
      ]
     },
     "metadata": {},
     "output_type": "display_data"
    }
   ],
   "source": [
    "#for train data\n",
    "\n",
    "plt.figure(figsize=(25, 10))\n",
    "sns.countplot(df.Region_Code, hue = df.Is_Lead)"
   ]
  },
  {
   "cell_type": "markdown",
   "id": "3f34709e",
   "metadata": {},
   "source": [
    "- From the above graph we can observe that RG268, RG283, RG284, RG254 are the top four regions in lead generation. "
   ]
  },
  {
   "cell_type": "markdown",
   "id": "e80d7b3c",
   "metadata": {},
   "source": [
    "## Feature Engineering"
   ]
  },
  {
   "cell_type": "code",
   "execution_count": 26,
   "id": "0a610632",
   "metadata": {
    "scrolled": true
   },
   "outputs": [
    {
     "data": {
      "text/plain": [
       "ID                         0\n",
       "Gender                     0\n",
       "Age                        0\n",
       "Region_Code                0\n",
       "Occupation                 0\n",
       "Channel_Code               0\n",
       "Vintage                    0\n",
       "Credit_Product         29325\n",
       "Avg_Account_Balance        0\n",
       "Is_Active                  0\n",
       "Is_Lead                    0\n",
       "dtype: int64"
      ]
     },
     "execution_count": 26,
     "metadata": {},
     "output_type": "execute_result"
    }
   ],
   "source": [
    "df.isnull().sum()"
   ]
  },
  {
   "cell_type": "code",
   "execution_count": 27,
   "id": "ed3d7ffe",
   "metadata": {},
   "outputs": [
    {
     "data": {
      "text/plain": [
       "No     144357\n",
       "Yes     72043\n",
       "Name: Credit_Product, dtype: int64"
      ]
     },
     "execution_count": 27,
     "metadata": {},
     "output_type": "execute_result"
    }
   ],
   "source": [
    "df['Credit_Product'].value_counts()"
   ]
  },
  {
   "cell_type": "code",
   "execution_count": 28,
   "id": "882b8033",
   "metadata": {},
   "outputs": [],
   "source": [
    "df['Credit_Product'] = df['Credit_Product'].fillna(\"No info\")"
   ]
  },
  {
   "cell_type": "code",
   "execution_count": 29,
   "id": "51d2daea",
   "metadata": {},
   "outputs": [
    {
     "data": {
      "text/plain": [
       "No         144357\n",
       "Yes         72043\n",
       "No info     29325\n",
       "Name: Credit_Product, dtype: int64"
      ]
     },
     "execution_count": 29,
     "metadata": {},
     "output_type": "execute_result"
    }
   ],
   "source": [
    "df['Credit_Product'].value_counts()"
   ]
  },
  {
   "cell_type": "code",
   "execution_count": 30,
   "id": "c448db3f",
   "metadata": {},
   "outputs": [
    {
     "data": {
      "text/plain": [
       "<AxesSubplot:xlabel='Credit_Product', ylabel='count'>"
      ]
     },
     "execution_count": 30,
     "metadata": {},
     "output_type": "execute_result"
    },
    {
     "data": {
      "image/png": "[encoded data removed]",
      "text/plain": [
       "<Figure size 432x288 with 1 Axes>"
      ]
     },
     "metadata": {},
     "output_type": "display_data"
    }
   ],
   "source": [
    "sns.countplot(df['Credit_Product'])"
   ]
  },
  {
   "cell_type": "code",
   "execution_count": 31,
   "id": "b1f89fcf",
   "metadata": {},
   "outputs": [],
   "source": [
    "# For test data\n",
    "\n",
    "test['Credit_Product'] = test['Credit_Product'].fillna(\"No info\")"
   ]
  },
  {
   "cell_type": "code",
   "execution_count": 32,
   "id": "e684f808",
   "metadata": {},
   "outputs": [
    {
     "data": {
      "text/plain": [
       "No         61608\n",
       "Yes        31182\n",
       "No info    12522\n",
       "Name: Credit_Product, dtype: int64"
      ]
     },
     "execution_count": 32,
     "metadata": {},
     "output_type": "execute_result"
    }
   ],
   "source": [
    "test['Credit_Product'].value_counts()"
   ]
  },
  {
   "cell_type": "code",
   "execution_count": 33,
   "id": "9f7676a9",
   "metadata": {},
   "outputs": [
    {
     "data": {
      "text/plain": [
       "<AxesSubplot:xlabel='Credit_Product', ylabel='count'>"
      ]
     },
     "execution_count": 33,
     "metadata": {},
     "output_type": "execute_result"
    },
    {
     "data": {
      "image/png": "[encoded data removed]",
      "text/plain": [
       "<Figure size 432x288 with 1 Axes>"
      ]
     },
     "metadata": {},
     "output_type": "display_data"
    }
   ],
   "source": [
    "sns.countplot(test['Credit_Product'])"
   ]
  },
  {
   "cell_type": "markdown",
   "id": "04e9faae",
   "metadata": {},
   "source": [
    "## Age"
   ]
  },
  {
   "cell_type": "code",
   "execution_count": 34,
   "id": "e6751b7d",
   "metadata": {},
   "outputs": [
    {
     "data": {
      "image/png": "[encoded data removed]",
      "text/plain": [
       "<Figure size 576x432 with 1 Axes>"
      ]
     },
     "metadata": {},
     "output_type": "display_data"
    }
   ],
   "source": [
    "# Explore Size Vs Type using kde plots\n",
    "plt.figure(figsize=(8, 6))\n",
    "g = sns.kdeplot(df[\"Age\"][(df[\"Is_Lead\"] == 0) & (df[\"Age\"].notnull())], color=\"Red\", shade = True)\n",
    "g = sns.kdeplot(df[\"Age\"][(df[\"Is_Lead\"] == 1) & (df[\"Age\"].notnull())], ax =g, color=\"Blue\", shade= True)\n",
    "g.set_xlabel(\"Age\")\n",
    "g.set_ylabel(\"Frequency\")\n",
    "g = g.legend([\"Is_Lead=0\",\"Is_Lead=1\"])"
   ]
  },
  {
   "cell_type": "markdown",
   "id": "7087988a",
   "metadata": {},
   "source": [
    "From the above plot it is visible that people in the range of 35-65 are becomin a lead.\n",
    "\n",
    "so it will be helpful to categorize them in different categories."
   ]
  },
  {
   "cell_type": "code",
   "execution_count": 35,
   "id": "07cf5437",
   "metadata": {},
   "outputs": [
    {
     "data": {
      "text/plain": [
       "ID                     43195\n",
       "Gender                 43195\n",
       "Age                    43195\n",
       "Region_Code            43195\n",
       "Occupation             43195\n",
       "Channel_Code           43195\n",
       "Vintage                43195\n",
       "Credit_Product         43195\n",
       "Avg_Account_Balance    43195\n",
       "Is_Active              43195\n",
       "Is_Lead                43195\n",
       "dtype: int64"
      ]
     },
     "execution_count": 35,
     "metadata": {},
     "output_type": "execute_result"
    }
   ],
   "source": [
    "df[(df[\"Age\"]>35) & (df[\"Age\"]<65) & (df['Is_Lead']==1)].count()"
   ]
  },
  {
   "cell_type": "code",
   "execution_count": 36,
   "id": "a6dbf455",
   "metadata": {},
   "outputs": [
    {
     "data": {
      "text/plain": [
       "ID                     7396\n",
       "Gender                 7396\n",
       "Age                    7396\n",
       "Region_Code            7396\n",
       "Occupation             7396\n",
       "Channel_Code           7396\n",
       "Vintage                7396\n",
       "Credit_Product         7396\n",
       "Avg_Account_Balance    7396\n",
       "Is_Active              7396\n",
       "Is_Lead                7396\n",
       "dtype: int64"
      ]
     },
     "execution_count": 36,
     "metadata": {},
     "output_type": "execute_result"
    }
   ],
   "source": [
    "df[(df[\"Age\"]<35) &(df['Is_Lead']==1)].count()"
   ]
  },
  {
   "cell_type": "code",
   "execution_count": 37,
   "id": "dd6991ca",
   "metadata": {},
   "outputs": [
    {
     "data": {
      "text/plain": [
       "ID                     6462\n",
       "Gender                 6462\n",
       "Age                    6462\n",
       "Region_Code            6462\n",
       "Occupation             6462\n",
       "Channel_Code           6462\n",
       "Vintage                6462\n",
       "Credit_Product         6462\n",
       "Avg_Account_Balance    6462\n",
       "Is_Active              6462\n",
       "Is_Lead                6462\n",
       "dtype: int64"
      ]
     },
     "execution_count": 37,
     "metadata": {},
     "output_type": "execute_result"
    }
   ],
   "source": [
    "df[(df[\"Age\"]>65) &(df['Is_Lead']==1)].count()"
   ]
  },
  {
   "cell_type": "code",
   "execution_count": 38,
   "id": "4bae13fb",
   "metadata": {},
   "outputs": [],
   "source": [
    "conditions = [\n",
    "    (df['Age'] <= 35),\n",
    "    (df['Age'] >35 ) & (df['Age'] <= 65),\n",
    "    (df['Age'] > 65)\n",
    "    ]"
   ]
  },
  {
   "cell_type": "code",
   "execution_count": 39,
   "id": "031ef642",
   "metadata": {},
   "outputs": [],
   "source": [
    "values = ['Youth', 'Adult', 'Senior']"
   ]
  },
  {
   "cell_type": "code",
   "execution_count": 40,
   "id": "5c4c2b50",
   "metadata": {},
   "outputs": [
    {
     "data": {
      "text/html": [
       "<div>\n",
       "<style scoped>\n",
       "    .dataframe tbody tr th:only-of-type {\n",
       "        vertical-align: middle;\n",
       "    }\n",
       "\n",
       "    .dataframe tbody tr th {\n",
       "        vertical-align: top;\n",
       "    }\n",
       "\n",
       "    .dataframe thead th {\n",
       "        text-align: right;\n",
       "    }\n",
       "</style>\n",
       "<table border=\"1\" class=\"dataframe\">\n",
       "  <thead>\n",
       "    <tr style=\"text-align: right;\">\n",
       "      <th></th>\n",
       "      <th>ID</th>\n",
       "      <th>Gender</th>\n",
       "      <th>Age</th>\n",
       "      <th>Region_Code</th>\n",
       "      <th>Occupation</th>\n",
       "      <th>Channel_Code</th>\n",
       "      <th>Vintage</th>\n",
       "      <th>Credit_Product</th>\n",
       "      <th>Avg_Account_Balance</th>\n",
       "      <th>Is_Active</th>\n",
       "      <th>Is_Lead</th>\n",
       "      <th>Age_cat</th>\n",
       "    </tr>\n",
       "  </thead>\n",
       "  <tbody>\n",
       "    <tr>\n",
       "      <th>0</th>\n",
       "      <td>NNVBBKZB</td>\n",
       "      <td>Female</td>\n",
       "      <td>73</td>\n",
       "      <td>RG268</td>\n",
       "      <td>Other</td>\n",
       "      <td>X3</td>\n",
       "      <td>43</td>\n",
       "      <td>No</td>\n",
       "      <td>1045696</td>\n",
       "      <td>No</td>\n",
       "      <td>0</td>\n",
       "      <td>Senior</td>\n",
       "    </tr>\n",
       "    <tr>\n",
       "      <th>1</th>\n",
       "      <td>IDD62UNG</td>\n",
       "      <td>Female</td>\n",
       "      <td>30</td>\n",
       "      <td>RG277</td>\n",
       "      <td>Salaried</td>\n",
       "      <td>X1</td>\n",
       "      <td>32</td>\n",
       "      <td>No</td>\n",
       "      <td>581988</td>\n",
       "      <td>No</td>\n",
       "      <td>0</td>\n",
       "      <td>Youth</td>\n",
       "    </tr>\n",
       "    <tr>\n",
       "      <th>2</th>\n",
       "      <td>HD3DSEMC</td>\n",
       "      <td>Female</td>\n",
       "      <td>56</td>\n",
       "      <td>RG268</td>\n",
       "      <td>Self_Employed</td>\n",
       "      <td>X3</td>\n",
       "      <td>26</td>\n",
       "      <td>No</td>\n",
       "      <td>1484315</td>\n",
       "      <td>Yes</td>\n",
       "      <td>0</td>\n",
       "      <td>Adult</td>\n",
       "    </tr>\n",
       "    <tr>\n",
       "      <th>3</th>\n",
       "      <td>BF3NC7KV</td>\n",
       "      <td>Male</td>\n",
       "      <td>34</td>\n",
       "      <td>RG270</td>\n",
       "      <td>Salaried</td>\n",
       "      <td>X1</td>\n",
       "      <td>19</td>\n",
       "      <td>No</td>\n",
       "      <td>470454</td>\n",
       "      <td>No</td>\n",
       "      <td>0</td>\n",
       "      <td>Youth</td>\n",
       "    </tr>\n",
       "    <tr>\n",
       "      <th>4</th>\n",
       "      <td>TEASRWXV</td>\n",
       "      <td>Female</td>\n",
       "      <td>30</td>\n",
       "      <td>RG282</td>\n",
       "      <td>Salaried</td>\n",
       "      <td>X1</td>\n",
       "      <td>33</td>\n",
       "      <td>No</td>\n",
       "      <td>886787</td>\n",
       "      <td>No</td>\n",
       "      <td>0</td>\n",
       "      <td>Youth</td>\n",
       "    </tr>\n",
       "  </tbody>\n",
       "</table>\n",
       "</div>"
      ],
      "text/plain": [
       "         ID  Gender  Age Region_Code     Occupation Channel_Code  Vintage  \\\n",
       "0  NNVBBKZB  Female   73       RG268          Other           X3       43   \n",
       "1  IDD62UNG  Female   30       RG277       Salaried           X1       32   \n",
       "2  HD3DSEMC  Female   56       RG268  Self_Employed           X3       26   \n",
       "3  BF3NC7KV    Male   34       RG270       Salaried           X1       19   \n",
       "4  TEASRWXV  Female   30       RG282       Salaried           X1       33   \n",
       "\n",
       "  Credit_Product  Avg_Account_Balance Is_Active  Is_Lead Age_cat  \n",
       "0             No              1045696        No        0  Senior  \n",
       "1             No               581988        No        0   Youth  \n",
       "2             No              1484315       Yes        0   Adult  \n",
       "3             No               470454        No        0   Youth  \n",
       "4             No               886787        No        0   Youth  "
      ]
     },
     "execution_count": 40,
     "metadata": {},
     "output_type": "execute_result"
    }
   ],
   "source": [
    "df['Age_cat'] = np.select(conditions, values)\n",
    "df.head()"
   ]
  },
  {
   "cell_type": "markdown",
   "id": "9a9c0e55",
   "metadata": {},
   "source": [
    "- Above we have categorize the age group into three sections- \"Youth\",\"Adult\",\"Senior\".\n",
    "- As the age range I have taken is not proper according to the names, which can be modified according to business understanding, I have implemented it according to my analysis from the lead generated in different age range."
   ]
  },
  {
   "cell_type": "code",
   "execution_count": 41,
   "id": "1b88c140",
   "metadata": {},
   "outputs": [],
   "source": [
    "## For test dataset\n",
    "\n",
    "conditions = [\n",
    "    (test['Age'] <= 35),\n",
    "    (test['Age'] >35 ) & (test['Age'] <= 65),\n",
    "    (test['Age'] > 65)\n",
    "    ]"
   ]
  },
  {
   "cell_type": "code",
   "execution_count": 42,
   "id": "263a7e88",
   "metadata": {},
   "outputs": [],
   "source": [
    "values = ['Youth', 'Adult', 'Senior']"
   ]
  },
  {
   "cell_type": "code",
   "execution_count": 43,
   "id": "48ad5804",
   "metadata": {},
   "outputs": [
    {
     "data": {
      "text/html": [
       "<div>\n",
       "<style scoped>\n",
       "    .dataframe tbody tr th:only-of-type {\n",
       "        vertical-align: middle;\n",
       "    }\n",
       "\n",
       "    .dataframe tbody tr th {\n",
       "        vertical-align: top;\n",
       "    }\n",
       "\n",
       "    .dataframe thead th {\n",
       "        text-align: right;\n",
       "    }\n",
       "</style>\n",
       "<table border=\"1\" class=\"dataframe\">\n",
       "  <thead>\n",
       "    <tr style=\"text-align: right;\">\n",
       "      <th></th>\n",
       "      <th>ID</th>\n",
       "      <th>Gender</th>\n",
       "      <th>Age</th>\n",
       "      <th>Region_Code</th>\n",
       "      <th>Occupation</th>\n",
       "      <th>Channel_Code</th>\n",
       "      <th>Vintage</th>\n",
       "      <th>Credit_Product</th>\n",
       "      <th>Avg_Account_Balance</th>\n",
       "      <th>Is_Active</th>\n",
       "      <th>Age_cat</th>\n",
       "    </tr>\n",
       "  </thead>\n",
       "  <tbody>\n",
       "    <tr>\n",
       "      <th>0</th>\n",
       "      <td>VBENBARO</td>\n",
       "      <td>Male</td>\n",
       "      <td>29</td>\n",
       "      <td>RG254</td>\n",
       "      <td>Other</td>\n",
       "      <td>X1</td>\n",
       "      <td>25</td>\n",
       "      <td>Yes</td>\n",
       "      <td>742366</td>\n",
       "      <td>No</td>\n",
       "      <td>Youth</td>\n",
       "    </tr>\n",
       "    <tr>\n",
       "      <th>1</th>\n",
       "      <td>CCMEWNKY</td>\n",
       "      <td>Male</td>\n",
       "      <td>43</td>\n",
       "      <td>RG268</td>\n",
       "      <td>Other</td>\n",
       "      <td>X2</td>\n",
       "      <td>49</td>\n",
       "      <td>No info</td>\n",
       "      <td>925537</td>\n",
       "      <td>No</td>\n",
       "      <td>Adult</td>\n",
       "    </tr>\n",
       "    <tr>\n",
       "      <th>2</th>\n",
       "      <td>VK3KGA9M</td>\n",
       "      <td>Male</td>\n",
       "      <td>31</td>\n",
       "      <td>RG270</td>\n",
       "      <td>Salaried</td>\n",
       "      <td>X1</td>\n",
       "      <td>14</td>\n",
       "      <td>No</td>\n",
       "      <td>215949</td>\n",
       "      <td>No</td>\n",
       "      <td>Youth</td>\n",
       "    </tr>\n",
       "    <tr>\n",
       "      <th>3</th>\n",
       "      <td>TT8RPZVC</td>\n",
       "      <td>Male</td>\n",
       "      <td>29</td>\n",
       "      <td>RG272</td>\n",
       "      <td>Other</td>\n",
       "      <td>X1</td>\n",
       "      <td>33</td>\n",
       "      <td>No</td>\n",
       "      <td>868070</td>\n",
       "      <td>No</td>\n",
       "      <td>Youth</td>\n",
       "    </tr>\n",
       "    <tr>\n",
       "      <th>4</th>\n",
       "      <td>SHQZEYTZ</td>\n",
       "      <td>Female</td>\n",
       "      <td>29</td>\n",
       "      <td>RG270</td>\n",
       "      <td>Other</td>\n",
       "      <td>X1</td>\n",
       "      <td>19</td>\n",
       "      <td>No</td>\n",
       "      <td>657087</td>\n",
       "      <td>No</td>\n",
       "      <td>Youth</td>\n",
       "    </tr>\n",
       "  </tbody>\n",
       "</table>\n",
       "</div>"
      ],
      "text/plain": [
       "         ID  Gender  Age Region_Code Occupation Channel_Code  Vintage  \\\n",
       "0  VBENBARO    Male   29       RG254      Other           X1       25   \n",
       "1  CCMEWNKY    Male   43       RG268      Other           X2       49   \n",
       "2  VK3KGA9M    Male   31       RG270   Salaried           X1       14   \n",
       "3  TT8RPZVC    Male   29       RG272      Other           X1       33   \n",
       "4  SHQZEYTZ  Female   29       RG270      Other           X1       19   \n",
       "\n",
       "  Credit_Product  Avg_Account_Balance Is_Active Age_cat  \n",
       "0            Yes               742366        No   Youth  \n",
       "1        No info               925537        No   Adult  \n",
       "2             No               215949        No   Youth  \n",
       "3             No               868070        No   Youth  \n",
       "4             No               657087        No   Youth  "
      ]
     },
     "execution_count": 43,
     "metadata": {},
     "output_type": "execute_result"
    }
   ],
   "source": [
    "test['Age_cat'] = np.select(conditions, values)\n",
    "test.head()"
   ]
  },
  {
   "cell_type": "markdown",
   "id": "4ee10771",
   "metadata": {},
   "source": [
    "## Occupation"
   ]
  },
  {
   "cell_type": "code",
   "execution_count": 44,
   "id": "c1e718cf",
   "metadata": {},
   "outputs": [
    {
     "data": {
      "text/plain": [
       "Self_Employed    100886\n",
       "Salaried          71999\n",
       "Other             70173\n",
       "Entrepreneur       2667\n",
       "Name: Occupation, dtype: int64"
      ]
     },
     "execution_count": 44,
     "metadata": {},
     "output_type": "execute_result"
    }
   ],
   "source": [
    "df['Occupation'].value_counts()"
   ]
  },
  {
   "cell_type": "markdown",
   "id": "14ee476e",
   "metadata": {},
   "source": [
    "As we know that Entrepreneurs are also self employed and in this category they are very minor so we can convert Entrepreneurs to Self_Employed."
   ]
  },
  {
   "cell_type": "code",
   "execution_count": 45,
   "id": "c79f221d",
   "metadata": {},
   "outputs": [],
   "source": [
    "df['Occupation'].replace({'Entrepreneur':'Self_Employed'},inplace=True)"
   ]
  },
  {
   "cell_type": "code",
   "execution_count": 46,
   "id": "f531a423",
   "metadata": {},
   "outputs": [
    {
     "data": {
      "text/plain": [
       "Self_Employed    103553\n",
       "Salaried          71999\n",
       "Other             70173\n",
       "Name: Occupation, dtype: int64"
      ]
     },
     "execution_count": 46,
     "metadata": {},
     "output_type": "execute_result"
    }
   ],
   "source": [
    "df['Occupation'].value_counts()"
   ]
  },
  {
   "cell_type": "code",
   "execution_count": 47,
   "id": "5240c44c",
   "metadata": {},
   "outputs": [],
   "source": [
    "## For test dataset\n",
    "\n",
    "test['Occupation'].replace({'Entrepreneur':'Self_Employed'},inplace=True)"
   ]
  },
  {
   "cell_type": "code",
   "execution_count": 48,
   "id": "7457d6a9",
   "metadata": {},
   "outputs": [
    {
     "data": {
      "text/plain": [
       "Self_Employed    103553\n",
       "Salaried          71999\n",
       "Other             70173\n",
       "Name: Occupation, dtype: int64"
      ]
     },
     "execution_count": 48,
     "metadata": {},
     "output_type": "execute_result"
    }
   ],
   "source": [
    "df['Occupation'].value_counts()"
   ]
  },
  {
   "cell_type": "code",
   "execution_count": 49,
   "id": "3fcf440e",
   "metadata": {
    "scrolled": true
   },
   "outputs": [
    {
     "data": {
      "text/html": [
       "<div>\n",
       "<style scoped>\n",
       "    .dataframe tbody tr th:only-of-type {\n",
       "        vertical-align: middle;\n",
       "    }\n",
       "\n",
       "    .dataframe tbody tr th {\n",
       "        vertical-align: top;\n",
       "    }\n",
       "\n",
       "    .dataframe thead th {\n",
       "        text-align: right;\n",
       "    }\n",
       "</style>\n",
       "<table border=\"1\" class=\"dataframe\">\n",
       "  <thead>\n",
       "    <tr style=\"text-align: right;\">\n",
       "      <th></th>\n",
       "      <th>Gender</th>\n",
       "      <th>Region_Code</th>\n",
       "      <th>Occupation</th>\n",
       "      <th>Channel_Code</th>\n",
       "      <th>Vintage</th>\n",
       "      <th>Credit_Product</th>\n",
       "      <th>Avg_Account_Balance</th>\n",
       "      <th>Is_Active</th>\n",
       "      <th>Is_Lead</th>\n",
       "      <th>Age_cat</th>\n",
       "    </tr>\n",
       "  </thead>\n",
       "  <tbody>\n",
       "    <tr>\n",
       "      <th>0</th>\n",
       "      <td>Female</td>\n",
       "      <td>RG268</td>\n",
       "      <td>Other</td>\n",
       "      <td>X3</td>\n",
       "      <td>43</td>\n",
       "      <td>No</td>\n",
       "      <td>1045696</td>\n",
       "      <td>No</td>\n",
       "      <td>0</td>\n",
       "      <td>Senior</td>\n",
       "    </tr>\n",
       "    <tr>\n",
       "      <th>1</th>\n",
       "      <td>Female</td>\n",
       "      <td>RG277</td>\n",
       "      <td>Salaried</td>\n",
       "      <td>X1</td>\n",
       "      <td>32</td>\n",
       "      <td>No</td>\n",
       "      <td>581988</td>\n",
       "      <td>No</td>\n",
       "      <td>0</td>\n",
       "      <td>Youth</td>\n",
       "    </tr>\n",
       "    <tr>\n",
       "      <th>2</th>\n",
       "      <td>Female</td>\n",
       "      <td>RG268</td>\n",
       "      <td>Self_Employed</td>\n",
       "      <td>X3</td>\n",
       "      <td>26</td>\n",
       "      <td>No</td>\n",
       "      <td>1484315</td>\n",
       "      <td>Yes</td>\n",
       "      <td>0</td>\n",
       "      <td>Adult</td>\n",
       "    </tr>\n",
       "    <tr>\n",
       "      <th>3</th>\n",
       "      <td>Male</td>\n",
       "      <td>RG270</td>\n",
       "      <td>Salaried</td>\n",
       "      <td>X1</td>\n",
       "      <td>19</td>\n",
       "      <td>No</td>\n",
       "      <td>470454</td>\n",
       "      <td>No</td>\n",
       "      <td>0</td>\n",
       "      <td>Youth</td>\n",
       "    </tr>\n",
       "    <tr>\n",
       "      <th>4</th>\n",
       "      <td>Female</td>\n",
       "      <td>RG282</td>\n",
       "      <td>Salaried</td>\n",
       "      <td>X1</td>\n",
       "      <td>33</td>\n",
       "      <td>No</td>\n",
       "      <td>886787</td>\n",
       "      <td>No</td>\n",
       "      <td>0</td>\n",
       "      <td>Youth</td>\n",
       "    </tr>\n",
       "  </tbody>\n",
       "</table>\n",
       "</div>"
      ],
      "text/plain": [
       "   Gender Region_Code     Occupation Channel_Code  Vintage Credit_Product  \\\n",
       "0  Female       RG268          Other           X3       43             No   \n",
       "1  Female       RG277       Salaried           X1       32             No   \n",
       "2  Female       RG268  Self_Employed           X3       26             No   \n",
       "3    Male       RG270       Salaried           X1       19             No   \n",
       "4  Female       RG282       Salaried           X1       33             No   \n",
       "\n",
       "   Avg_Account_Balance Is_Active  Is_Lead Age_cat  \n",
       "0              1045696        No        0  Senior  \n",
       "1               581988        No        0   Youth  \n",
       "2              1484315       Yes        0   Adult  \n",
       "3               470454        No        0   Youth  \n",
       "4               886787        No        0   Youth  "
      ]
     },
     "execution_count": 49,
     "metadata": {},
     "output_type": "execute_result"
    }
   ],
   "source": [
    "df = df.drop(['Age',\"ID\"],axis = 1)\n",
    "df.head()"
   ]
  },
  {
   "cell_type": "code",
   "execution_count": 50,
   "id": "23a3d82f",
   "metadata": {},
   "outputs": [
    {
     "data": {
      "text/html": [
       "<div>\n",
       "<style scoped>\n",
       "    .dataframe tbody tr th:only-of-type {\n",
       "        vertical-align: middle;\n",
       "    }\n",
       "\n",
       "    .dataframe tbody tr th {\n",
       "        vertical-align: top;\n",
       "    }\n",
       "\n",
       "    .dataframe thead th {\n",
       "        text-align: right;\n",
       "    }\n",
       "</style>\n",
       "<table border=\"1\" class=\"dataframe\">\n",
       "  <thead>\n",
       "    <tr style=\"text-align: right;\">\n",
       "      <th></th>\n",
       "      <th>ID</th>\n",
       "      <th>Gender</th>\n",
       "      <th>Region_Code</th>\n",
       "      <th>Occupation</th>\n",
       "      <th>Channel_Code</th>\n",
       "      <th>Vintage</th>\n",
       "      <th>Credit_Product</th>\n",
       "      <th>Avg_Account_Balance</th>\n",
       "      <th>Is_Active</th>\n",
       "      <th>Age_cat</th>\n",
       "    </tr>\n",
       "  </thead>\n",
       "  <tbody>\n",
       "    <tr>\n",
       "      <th>0</th>\n",
       "      <td>VBENBARO</td>\n",
       "      <td>Male</td>\n",
       "      <td>RG254</td>\n",
       "      <td>Other</td>\n",
       "      <td>X1</td>\n",
       "      <td>25</td>\n",
       "      <td>Yes</td>\n",
       "      <td>742366</td>\n",
       "      <td>No</td>\n",
       "      <td>Youth</td>\n",
       "    </tr>\n",
       "    <tr>\n",
       "      <th>1</th>\n",
       "      <td>CCMEWNKY</td>\n",
       "      <td>Male</td>\n",
       "      <td>RG268</td>\n",
       "      <td>Other</td>\n",
       "      <td>X2</td>\n",
       "      <td>49</td>\n",
       "      <td>No info</td>\n",
       "      <td>925537</td>\n",
       "      <td>No</td>\n",
       "      <td>Adult</td>\n",
       "    </tr>\n",
       "    <tr>\n",
       "      <th>2</th>\n",
       "      <td>VK3KGA9M</td>\n",
       "      <td>Male</td>\n",
       "      <td>RG270</td>\n",
       "      <td>Salaried</td>\n",
       "      <td>X1</td>\n",
       "      <td>14</td>\n",
       "      <td>No</td>\n",
       "      <td>215949</td>\n",
       "      <td>No</td>\n",
       "      <td>Youth</td>\n",
       "    </tr>\n",
       "    <tr>\n",
       "      <th>3</th>\n",
       "      <td>TT8RPZVC</td>\n",
       "      <td>Male</td>\n",
       "      <td>RG272</td>\n",
       "      <td>Other</td>\n",
       "      <td>X1</td>\n",
       "      <td>33</td>\n",
       "      <td>No</td>\n",
       "      <td>868070</td>\n",
       "      <td>No</td>\n",
       "      <td>Youth</td>\n",
       "    </tr>\n",
       "    <tr>\n",
       "      <th>4</th>\n",
       "      <td>SHQZEYTZ</td>\n",
       "      <td>Female</td>\n",
       "      <td>RG270</td>\n",
       "      <td>Other</td>\n",
       "      <td>X1</td>\n",
       "      <td>19</td>\n",
       "      <td>No</td>\n",
       "      <td>657087</td>\n",
       "      <td>No</td>\n",
       "      <td>Youth</td>\n",
       "    </tr>\n",
       "  </tbody>\n",
       "</table>\n",
       "</div>"
      ],
      "text/plain": [
       "         ID  Gender Region_Code Occupation Channel_Code  Vintage  \\\n",
       "0  VBENBARO    Male       RG254      Other           X1       25   \n",
       "1  CCMEWNKY    Male       RG268      Other           X2       49   \n",
       "2  VK3KGA9M    Male       RG270   Salaried           X1       14   \n",
       "3  TT8RPZVC    Male       RG272      Other           X1       33   \n",
       "4  SHQZEYTZ  Female       RG270      Other           X1       19   \n",
       "\n",
       "  Credit_Product  Avg_Account_Balance Is_Active Age_cat  \n",
       "0            Yes               742366        No   Youth  \n",
       "1        No info               925537        No   Adult  \n",
       "2             No               215949        No   Youth  \n",
       "3             No               868070        No   Youth  \n",
       "4             No               657087        No   Youth  "
      ]
     },
     "execution_count": 50,
     "metadata": {},
     "output_type": "execute_result"
    }
   ],
   "source": [
    "test = test.drop(['Age'],axis = 1)\n",
    "test.head()"
   ]
  },
  {
   "cell_type": "code",
   "execution_count": 51,
   "id": "2e3bb836",
   "metadata": {},
   "outputs": [
    {
     "data": {
      "text/html": [
       "<div>\n",
       "<style scoped>\n",
       "    .dataframe tbody tr th:only-of-type {\n",
       "        vertical-align: middle;\n",
       "    }\n",
       "\n",
       "    .dataframe tbody tr th {\n",
       "        vertical-align: top;\n",
       "    }\n",
       "\n",
       "    .dataframe thead th {\n",
       "        text-align: right;\n",
       "    }\n",
       "</style>\n",
       "<table border=\"1\" class=\"dataframe\">\n",
       "  <thead>\n",
       "    <tr style=\"text-align: right;\">\n",
       "      <th></th>\n",
       "      <th>Region_Code</th>\n",
       "      <th>Occupation</th>\n",
       "      <th>Vintage</th>\n",
       "      <th>Avg_Account_Balance</th>\n",
       "      <th>Is_Lead</th>\n",
       "      <th>Age_cat</th>\n",
       "      <th>Gender_Male</th>\n",
       "      <th>Channel_Code_X2</th>\n",
       "      <th>Channel_Code_X3</th>\n",
       "      <th>Channel_Code_X4</th>\n",
       "      <th>Credit_Product_No info</th>\n",
       "      <th>Credit_Product_Yes</th>\n",
       "      <th>Is_Active_Yes</th>\n",
       "    </tr>\n",
       "  </thead>\n",
       "  <tbody>\n",
       "    <tr>\n",
       "      <th>0</th>\n",
       "      <td>RG268</td>\n",
       "      <td>Other</td>\n",
       "      <td>43</td>\n",
       "      <td>1045696</td>\n",
       "      <td>0</td>\n",
       "      <td>Senior</td>\n",
       "      <td>0</td>\n",
       "      <td>0</td>\n",
       "      <td>1</td>\n",
       "      <td>0</td>\n",
       "      <td>0</td>\n",
       "      <td>0</td>\n",
       "      <td>0</td>\n",
       "    </tr>\n",
       "    <tr>\n",
       "      <th>1</th>\n",
       "      <td>RG277</td>\n",
       "      <td>Salaried</td>\n",
       "      <td>32</td>\n",
       "      <td>581988</td>\n",
       "      <td>0</td>\n",
       "      <td>Youth</td>\n",
       "      <td>0</td>\n",
       "      <td>0</td>\n",
       "      <td>0</td>\n",
       "      <td>0</td>\n",
       "      <td>0</td>\n",
       "      <td>0</td>\n",
       "      <td>0</td>\n",
       "    </tr>\n",
       "    <tr>\n",
       "      <th>2</th>\n",
       "      <td>RG268</td>\n",
       "      <td>Self_Employed</td>\n",
       "      <td>26</td>\n",
       "      <td>1484315</td>\n",
       "      <td>0</td>\n",
       "      <td>Adult</td>\n",
       "      <td>0</td>\n",
       "      <td>0</td>\n",
       "      <td>1</td>\n",
       "      <td>0</td>\n",
       "      <td>0</td>\n",
       "      <td>0</td>\n",
       "      <td>1</td>\n",
       "    </tr>\n",
       "    <tr>\n",
       "      <th>3</th>\n",
       "      <td>RG270</td>\n",
       "      <td>Salaried</td>\n",
       "      <td>19</td>\n",
       "      <td>470454</td>\n",
       "      <td>0</td>\n",
       "      <td>Youth</td>\n",
       "      <td>1</td>\n",
       "      <td>0</td>\n",
       "      <td>0</td>\n",
       "      <td>0</td>\n",
       "      <td>0</td>\n",
       "      <td>0</td>\n",
       "      <td>0</td>\n",
       "    </tr>\n",
       "    <tr>\n",
       "      <th>4</th>\n",
       "      <td>RG282</td>\n",
       "      <td>Salaried</td>\n",
       "      <td>33</td>\n",
       "      <td>886787</td>\n",
       "      <td>0</td>\n",
       "      <td>Youth</td>\n",
       "      <td>0</td>\n",
       "      <td>0</td>\n",
       "      <td>0</td>\n",
       "      <td>0</td>\n",
       "      <td>0</td>\n",
       "      <td>0</td>\n",
       "      <td>0</td>\n",
       "    </tr>\n",
       "  </tbody>\n",
       "</table>\n",
       "</div>"
      ],
      "text/plain": [
       "  Region_Code     Occupation  Vintage  Avg_Account_Balance  Is_Lead Age_cat  \\\n",
       "0       RG268          Other       43              1045696        0  Senior   \n",
       "1       RG277       Salaried       32               581988        0   Youth   \n",
       "2       RG268  Self_Employed       26              1484315        0   Adult   \n",
       "3       RG270       Salaried       19               470454        0   Youth   \n",
       "4       RG282       Salaried       33               886787        0   Youth   \n",
       "\n",
       "   Gender_Male  Channel_Code_X2  Channel_Code_X3  Channel_Code_X4  \\\n",
       "0            0                0                1                0   \n",
       "1            0                0                0                0   \n",
       "2            0                0                1                0   \n",
       "3            1                0                0                0   \n",
       "4            0                0                0                0   \n",
       "\n",
       "   Credit_Product_No info  Credit_Product_Yes  Is_Active_Yes  \n",
       "0                       0                   0              0  \n",
       "1                       0                   0              0  \n",
       "2                       0                   0              1  \n",
       "3                       0                   0              0  \n",
       "4                       0                   0              0  "
      ]
     },
     "execution_count": 51,
     "metadata": {},
     "output_type": "execute_result"
    }
   ],
   "source": [
    "dummy = pd.get_dummies(df[['Gender','Channel_Code', 'Credit_Product', 'Is_Active']],drop_first=True)\n",
    "\n",
    "df = pd.concat([df,dummy],axis=1)\n",
    "\n",
    "df = df.drop(['Gender', 'Channel_Code', 'Credit_Product', 'Is_Active'], axis = 1)\n",
    "\n",
    "df.head()"
   ]
  },
  {
   "cell_type": "code",
   "execution_count": 52,
   "id": "6c87d48b",
   "metadata": {},
   "outputs": [
    {
     "data": {
      "text/html": [
       "<div>\n",
       "<style scoped>\n",
       "    .dataframe tbody tr th:only-of-type {\n",
       "        vertical-align: middle;\n",
       "    }\n",
       "\n",
       "    .dataframe tbody tr th {\n",
       "        vertical-align: top;\n",
       "    }\n",
       "\n",
       "    .dataframe thead th {\n",
       "        text-align: right;\n",
       "    }\n",
       "</style>\n",
       "<table border=\"1\" class=\"dataframe\">\n",
       "  <thead>\n",
       "    <tr style=\"text-align: right;\">\n",
       "      <th></th>\n",
       "      <th>ID</th>\n",
       "      <th>Region_Code</th>\n",
       "      <th>Occupation</th>\n",
       "      <th>Vintage</th>\n",
       "      <th>Avg_Account_Balance</th>\n",
       "      <th>Age_cat</th>\n",
       "      <th>Gender_Male</th>\n",
       "      <th>Channel_Code_X2</th>\n",
       "      <th>Channel_Code_X3</th>\n",
       "      <th>Channel_Code_X4</th>\n",
       "      <th>Credit_Product_No info</th>\n",
       "      <th>Credit_Product_Yes</th>\n",
       "      <th>Is_Active_Yes</th>\n",
       "    </tr>\n",
       "  </thead>\n",
       "  <tbody>\n",
       "    <tr>\n",
       "      <th>0</th>\n",
       "      <td>VBENBARO</td>\n",
       "      <td>RG254</td>\n",
       "      <td>Other</td>\n",
       "      <td>25</td>\n",
       "      <td>742366</td>\n",
       "      <td>Youth</td>\n",
       "      <td>1</td>\n",
       "      <td>0</td>\n",
       "      <td>0</td>\n",
       "      <td>0</td>\n",
       "      <td>0</td>\n",
       "      <td>1</td>\n",
       "      <td>0</td>\n",
       "    </tr>\n",
       "    <tr>\n",
       "      <th>1</th>\n",
       "      <td>CCMEWNKY</td>\n",
       "      <td>RG268</td>\n",
       "      <td>Other</td>\n",
       "      <td>49</td>\n",
       "      <td>925537</td>\n",
       "      <td>Adult</td>\n",
       "      <td>1</td>\n",
       "      <td>1</td>\n",
       "      <td>0</td>\n",
       "      <td>0</td>\n",
       "      <td>1</td>\n",
       "      <td>0</td>\n",
       "      <td>0</td>\n",
       "    </tr>\n",
       "    <tr>\n",
       "      <th>2</th>\n",
       "      <td>VK3KGA9M</td>\n",
       "      <td>RG270</td>\n",
       "      <td>Salaried</td>\n",
       "      <td>14</td>\n",
       "      <td>215949</td>\n",
       "      <td>Youth</td>\n",
       "      <td>1</td>\n",
       "      <td>0</td>\n",
       "      <td>0</td>\n",
       "      <td>0</td>\n",
       "      <td>0</td>\n",
       "      <td>0</td>\n",
       "      <td>0</td>\n",
       "    </tr>\n",
       "    <tr>\n",
       "      <th>3</th>\n",
       "      <td>TT8RPZVC</td>\n",
       "      <td>RG272</td>\n",
       "      <td>Other</td>\n",
       "      <td>33</td>\n",
       "      <td>868070</td>\n",
       "      <td>Youth</td>\n",
       "      <td>1</td>\n",
       "      <td>0</td>\n",
       "      <td>0</td>\n",
       "      <td>0</td>\n",
       "      <td>0</td>\n",
       "      <td>0</td>\n",
       "      <td>0</td>\n",
       "    </tr>\n",
       "    <tr>\n",
       "      <th>4</th>\n",
       "      <td>SHQZEYTZ</td>\n",
       "      <td>RG270</td>\n",
       "      <td>Other</td>\n",
       "      <td>19</td>\n",
       "      <td>657087</td>\n",
       "      <td>Youth</td>\n",
       "      <td>0</td>\n",
       "      <td>0</td>\n",
       "      <td>0</td>\n",
       "      <td>0</td>\n",
       "      <td>0</td>\n",
       "      <td>0</td>\n",
       "      <td>0</td>\n",
       "    </tr>\n",
       "  </tbody>\n",
       "</table>\n",
       "</div>"
      ],
      "text/plain": [
       "         ID Region_Code Occupation  Vintage  Avg_Account_Balance Age_cat  \\\n",
       "0  VBENBARO       RG254      Other       25               742366   Youth   \n",
       "1  CCMEWNKY       RG268      Other       49               925537   Adult   \n",
       "2  VK3KGA9M       RG270   Salaried       14               215949   Youth   \n",
       "3  TT8RPZVC       RG272      Other       33               868070   Youth   \n",
       "4  SHQZEYTZ       RG270      Other       19               657087   Youth   \n",
       "\n",
       "   Gender_Male  Channel_Code_X2  Channel_Code_X3  Channel_Code_X4  \\\n",
       "0            1                0                0                0   \n",
       "1            1                1                0                0   \n",
       "2            1                0                0                0   \n",
       "3            1                0                0                0   \n",
       "4            0                0                0                0   \n",
       "\n",
       "   Credit_Product_No info  Credit_Product_Yes  Is_Active_Yes  \n",
       "0                       0                   1              0  \n",
       "1                       1                   0              0  \n",
       "2                       0                   0              0  \n",
       "3                       0                   0              0  \n",
       "4                       0                   0              0  "
      ]
     },
     "execution_count": 52,
     "metadata": {},
     "output_type": "execute_result"
    }
   ],
   "source": [
    "dummy = pd.get_dummies(test[['Gender','Channel_Code', 'Credit_Product', 'Is_Active']],drop_first=True)\n",
    "\n",
    "test = pd.concat([test,dummy],axis=1)\n",
    "\n",
    "test = test.drop(['Gender', 'Channel_Code', 'Credit_Product', 'Is_Active'], axis = 1)\n",
    "\n",
    "test.head()"
   ]
  },
  {
   "cell_type": "code",
   "execution_count": 53,
   "id": "7eb02e56",
   "metadata": {},
   "outputs": [
    {
     "data": {
      "image/png": "[encoded data removed]",
      "text/plain": [
       "<Figure size 432x288 with 1 Axes>"
      ]
     },
     "metadata": {},
     "output_type": "display_data"
    }
   ],
   "source": [
    "sns.set_style('whitegrid')\n",
    "sns.kdeplot(df['Avg_Account_Balance'], bw=0.5)\n",
    "plt.show()"
   ]
  },
  {
   "cell_type": "code",
   "execution_count": 54,
   "id": "cde31126",
   "metadata": {},
   "outputs": [
    {
     "data": {
      "image/png": "[encoded data removed]",
      "text/plain": [
       "<Figure size 432x288 with 1 Axes>"
      ]
     },
     "metadata": {},
     "output_type": "display_data"
    }
   ],
   "source": [
    "df['Avg_Account_Balance'] = np.log(df['Avg_Account_Balance'])\n",
    "sns.kdeplot(df['Avg_Account_Balance'])\n",
    "plt.show()"
   ]
  },
  {
   "cell_type": "code",
   "execution_count": 55,
   "id": "dc80df10",
   "metadata": {},
   "outputs": [
    {
     "data": {
      "image/png": "[encoded data removed]",
      "text/plain": [
       "<Figure size 432x288 with 1 Axes>"
      ]
     },
     "metadata": {},
     "output_type": "display_data"
    }
   ],
   "source": [
    "test['Avg_Account_Balance'] = np.log(test['Avg_Account_Balance'])\n",
    "sns.kdeplot(test['Avg_Account_Balance'])\n",
    "plt.show()"
   ]
  },
  {
   "cell_type": "markdown",
   "id": "6fd5b213",
   "metadata": {},
   "source": [
    "## Encoding Categorical Variables"
   ]
  },
  {
   "cell_type": "markdown",
   "id": "0ecdcba6",
   "metadata": {},
   "source": [
    "## Region_Code"
   ]
  },
  {
   "cell_type": "code",
   "execution_count": 56,
   "id": "d6464848",
   "metadata": {},
   "outputs": [
    {
     "data": {
      "text/plain": [
       "Index(['RG266', 'RG267', 'RG271', 'RG262', 'RG264', 'RG250', 'RG278', 'RG265',\n",
       "       'RG256', 'RG258', 'RG255', 'RG253', 'RG259', 'RG275', 'RG252', 'RG260',\n",
       "       'RG276', 'RG263', 'RG274', 'RG279', 'RG273', 'RG270', 'RG281', 'RG282',\n",
       "       'RG272', 'RG257', 'RG261', 'RG251', 'RG269', 'RG277', 'RG280', 'RG254',\n",
       "       'RG284', 'RG283', 'RG268'],\n",
       "      dtype='object')"
      ]
     },
     "execution_count": 56,
     "metadata": {},
     "output_type": "execute_result"
    }
   ],
   "source": [
    "ordinal_labels=df[df['Is_Lead']==1]['Region_Code'].value_counts().sort_values().index\n",
    "ordinal_labels"
   ]
  },
  {
   "cell_type": "code",
   "execution_count": 57,
   "id": "14070db5",
   "metadata": {},
   "outputs": [
    {
     "data": {
      "text/plain": [
       "<enumerate at 0x27551a9dbc0>"
      ]
     },
     "execution_count": 57,
     "metadata": {},
     "output_type": "execute_result"
    }
   ],
   "source": [
    "enumerate(ordinal_labels,1)"
   ]
  },
  {
   "cell_type": "code",
   "execution_count": 58,
   "id": "7f90183c",
   "metadata": {},
   "outputs": [
    {
     "data": {
      "text/plain": [
       "{'RG266': 1,\n",
       " 'RG267': 2,\n",
       " 'RG271': 3,\n",
       " 'RG262': 4,\n",
       " 'RG264': 5,\n",
       " 'RG250': 6,\n",
       " 'RG278': 7,\n",
       " 'RG265': 8,\n",
       " 'RG256': 9,\n",
       " 'RG258': 10,\n",
       " 'RG255': 11,\n",
       " 'RG253': 12,\n",
       " 'RG259': 13,\n",
       " 'RG275': 14,\n",
       " 'RG252': 15,\n",
       " 'RG260': 16,\n",
       " 'RG276': 17,\n",
       " 'RG263': 18,\n",
       " 'RG274': 19,\n",
       " 'RG279': 20,\n",
       " 'RG273': 21,\n",
       " 'RG270': 22,\n",
       " 'RG281': 23,\n",
       " 'RG282': 24,\n",
       " 'RG272': 25,\n",
       " 'RG257': 26,\n",
       " 'RG261': 27,\n",
       " 'RG251': 28,\n",
       " 'RG269': 29,\n",
       " 'RG277': 30,\n",
       " 'RG280': 31,\n",
       " 'RG254': 32,\n",
       " 'RG284': 33,\n",
       " 'RG283': 34,\n",
       " 'RG268': 35}"
      ]
     },
     "execution_count": 58,
     "metadata": {},
     "output_type": "execute_result"
    }
   ],
   "source": [
    "ordinal_labels2={k:i for i,k in enumerate(ordinal_labels,1)}\n",
    "ordinal_labels2"
   ]
  },
  {
   "cell_type": "code",
   "execution_count": 59,
   "id": "6a144835",
   "metadata": {},
   "outputs": [
    {
     "data": {
      "text/html": [
       "<div>\n",
       "<style scoped>\n",
       "    .dataframe tbody tr th:only-of-type {\n",
       "        vertical-align: middle;\n",
       "    }\n",
       "\n",
       "    .dataframe tbody tr th {\n",
       "        vertical-align: top;\n",
       "    }\n",
       "\n",
       "    .dataframe thead th {\n",
       "        text-align: right;\n",
       "    }\n",
       "</style>\n",
       "<table border=\"1\" class=\"dataframe\">\n",
       "  <thead>\n",
       "    <tr style=\"text-align: right;\">\n",
       "      <th></th>\n",
       "      <th>Occupation</th>\n",
       "      <th>Vintage</th>\n",
       "      <th>Avg_Account_Balance</th>\n",
       "      <th>Is_Lead</th>\n",
       "      <th>Age_cat</th>\n",
       "      <th>Gender_Male</th>\n",
       "      <th>Channel_Code_X2</th>\n",
       "      <th>Channel_Code_X3</th>\n",
       "      <th>Channel_Code_X4</th>\n",
       "      <th>Credit_Product_No info</th>\n",
       "      <th>Credit_Product_Yes</th>\n",
       "      <th>Is_Active_Yes</th>\n",
       "      <th>Region_Code_ord</th>\n",
       "    </tr>\n",
       "  </thead>\n",
       "  <tbody>\n",
       "    <tr>\n",
       "      <th>0</th>\n",
       "      <td>Other</td>\n",
       "      <td>43</td>\n",
       "      <td>13.860193</td>\n",
       "      <td>0</td>\n",
       "      <td>Senior</td>\n",
       "      <td>0</td>\n",
       "      <td>0</td>\n",
       "      <td>1</td>\n",
       "      <td>0</td>\n",
       "      <td>0</td>\n",
       "      <td>0</td>\n",
       "      <td>0</td>\n",
       "      <td>35</td>\n",
       "    </tr>\n",
       "    <tr>\n",
       "      <th>1</th>\n",
       "      <td>Salaried</td>\n",
       "      <td>32</td>\n",
       "      <td>13.274205</td>\n",
       "      <td>0</td>\n",
       "      <td>Youth</td>\n",
       "      <td>0</td>\n",
       "      <td>0</td>\n",
       "      <td>0</td>\n",
       "      <td>0</td>\n",
       "      <td>0</td>\n",
       "      <td>0</td>\n",
       "      <td>0</td>\n",
       "      <td>30</td>\n",
       "    </tr>\n",
       "    <tr>\n",
       "      <th>2</th>\n",
       "      <td>Self_Employed</td>\n",
       "      <td>26</td>\n",
       "      <td>14.210464</td>\n",
       "      <td>0</td>\n",
       "      <td>Adult</td>\n",
       "      <td>0</td>\n",
       "      <td>0</td>\n",
       "      <td>1</td>\n",
       "      <td>0</td>\n",
       "      <td>0</td>\n",
       "      <td>0</td>\n",
       "      <td>1</td>\n",
       "      <td>35</td>\n",
       "    </tr>\n",
       "    <tr>\n",
       "      <th>3</th>\n",
       "      <td>Salaried</td>\n",
       "      <td>19</td>\n",
       "      <td>13.061453</td>\n",
       "      <td>0</td>\n",
       "      <td>Youth</td>\n",
       "      <td>1</td>\n",
       "      <td>0</td>\n",
       "      <td>0</td>\n",
       "      <td>0</td>\n",
       "      <td>0</td>\n",
       "      <td>0</td>\n",
       "      <td>0</td>\n",
       "      <td>22</td>\n",
       "    </tr>\n",
       "    <tr>\n",
       "      <th>4</th>\n",
       "      <td>Salaried</td>\n",
       "      <td>33</td>\n",
       "      <td>13.695360</td>\n",
       "      <td>0</td>\n",
       "      <td>Youth</td>\n",
       "      <td>0</td>\n",
       "      <td>0</td>\n",
       "      <td>0</td>\n",
       "      <td>0</td>\n",
       "      <td>0</td>\n",
       "      <td>0</td>\n",
       "      <td>0</td>\n",
       "      <td>24</td>\n",
       "    </tr>\n",
       "  </tbody>\n",
       "</table>\n",
       "</div>"
      ],
      "text/plain": [
       "      Occupation  Vintage  Avg_Account_Balance  Is_Lead Age_cat  Gender_Male  \\\n",
       "0          Other       43            13.860193        0  Senior            0   \n",
       "1       Salaried       32            13.274205        0   Youth            0   \n",
       "2  Self_Employed       26            14.210464        0   Adult            0   \n",
       "3       Salaried       19            13.061453        0   Youth            1   \n",
       "4       Salaried       33            13.695360        0   Youth            0   \n",
       "\n",
       "   Channel_Code_X2  Channel_Code_X3  Channel_Code_X4  Credit_Product_No info  \\\n",
       "0                0                1                0                       0   \n",
       "1                0                0                0                       0   \n",
       "2                0                1                0                       0   \n",
       "3                0                0                0                       0   \n",
       "4                0                0                0                       0   \n",
       "\n",
       "   Credit_Product_Yes  Is_Active_Yes  Region_Code_ord  \n",
       "0                   0              0               35  \n",
       "1                   0              0               30  \n",
       "2                   0              1               35  \n",
       "3                   0              0               22  \n",
       "4                   0              0               24  "
      ]
     },
     "execution_count": 59,
     "metadata": {},
     "output_type": "execute_result"
    }
   ],
   "source": [
    "df['Region_Code_ord']=df['Region_Code'].map(ordinal_labels2)\n",
    "df = df.drop(['Region_Code'],axis = 1)\n",
    "df.head()"
   ]
  },
  {
   "cell_type": "code",
   "execution_count": 60,
   "id": "ee29942d",
   "metadata": {},
   "outputs": [
    {
     "data": {
      "text/html": [
       "<div>\n",
       "<style scoped>\n",
       "    .dataframe tbody tr th:only-of-type {\n",
       "        vertical-align: middle;\n",
       "    }\n",
       "\n",
       "    .dataframe tbody tr th {\n",
       "        vertical-align: top;\n",
       "    }\n",
       "\n",
       "    .dataframe thead th {\n",
       "        text-align: right;\n",
       "    }\n",
       "</style>\n",
       "<table border=\"1\" class=\"dataframe\">\n",
       "  <thead>\n",
       "    <tr style=\"text-align: right;\">\n",
       "      <th></th>\n",
       "      <th>ID</th>\n",
       "      <th>Occupation</th>\n",
       "      <th>Vintage</th>\n",
       "      <th>Avg_Account_Balance</th>\n",
       "      <th>Age_cat</th>\n",
       "      <th>Gender_Male</th>\n",
       "      <th>Channel_Code_X2</th>\n",
       "      <th>Channel_Code_X3</th>\n",
       "      <th>Channel_Code_X4</th>\n",
       "      <th>Credit_Product_No info</th>\n",
       "      <th>Credit_Product_Yes</th>\n",
       "      <th>Is_Active_Yes</th>\n",
       "      <th>Region_Code_ord</th>\n",
       "    </tr>\n",
       "  </thead>\n",
       "  <tbody>\n",
       "    <tr>\n",
       "      <th>0</th>\n",
       "      <td>VBENBARO</td>\n",
       "      <td>Other</td>\n",
       "      <td>25</td>\n",
       "      <td>13.517598</td>\n",
       "      <td>Youth</td>\n",
       "      <td>1</td>\n",
       "      <td>0</td>\n",
       "      <td>0</td>\n",
       "      <td>0</td>\n",
       "      <td>0</td>\n",
       "      <td>1</td>\n",
       "      <td>0</td>\n",
       "      <td>32</td>\n",
       "    </tr>\n",
       "    <tr>\n",
       "      <th>1</th>\n",
       "      <td>CCMEWNKY</td>\n",
       "      <td>Other</td>\n",
       "      <td>49</td>\n",
       "      <td>13.738129</td>\n",
       "      <td>Adult</td>\n",
       "      <td>1</td>\n",
       "      <td>1</td>\n",
       "      <td>0</td>\n",
       "      <td>0</td>\n",
       "      <td>1</td>\n",
       "      <td>0</td>\n",
       "      <td>0</td>\n",
       "      <td>35</td>\n",
       "    </tr>\n",
       "    <tr>\n",
       "      <th>2</th>\n",
       "      <td>VK3KGA9M</td>\n",
       "      <td>Salaried</td>\n",
       "      <td>14</td>\n",
       "      <td>12.282798</td>\n",
       "      <td>Youth</td>\n",
       "      <td>1</td>\n",
       "      <td>0</td>\n",
       "      <td>0</td>\n",
       "      <td>0</td>\n",
       "      <td>0</td>\n",
       "      <td>0</td>\n",
       "      <td>0</td>\n",
       "      <td>22</td>\n",
       "    </tr>\n",
       "    <tr>\n",
       "      <th>3</th>\n",
       "      <td>TT8RPZVC</td>\n",
       "      <td>Other</td>\n",
       "      <td>33</td>\n",
       "      <td>13.674028</td>\n",
       "      <td>Youth</td>\n",
       "      <td>1</td>\n",
       "      <td>0</td>\n",
       "      <td>0</td>\n",
       "      <td>0</td>\n",
       "      <td>0</td>\n",
       "      <td>0</td>\n",
       "      <td>0</td>\n",
       "      <td>25</td>\n",
       "    </tr>\n",
       "    <tr>\n",
       "      <th>4</th>\n",
       "      <td>SHQZEYTZ</td>\n",
       "      <td>Other</td>\n",
       "      <td>19</td>\n",
       "      <td>13.395572</td>\n",
       "      <td>Youth</td>\n",
       "      <td>0</td>\n",
       "      <td>0</td>\n",
       "      <td>0</td>\n",
       "      <td>0</td>\n",
       "      <td>0</td>\n",
       "      <td>0</td>\n",
       "      <td>0</td>\n",
       "      <td>22</td>\n",
       "    </tr>\n",
       "  </tbody>\n",
       "</table>\n",
       "</div>"
      ],
      "text/plain": [
       "         ID Occupation  Vintage  Avg_Account_Balance Age_cat  Gender_Male  \\\n",
       "0  VBENBARO      Other       25            13.517598   Youth            1   \n",
       "1  CCMEWNKY      Other       49            13.738129   Adult            1   \n",
       "2  VK3KGA9M   Salaried       14            12.282798   Youth            1   \n",
       "3  TT8RPZVC      Other       33            13.674028   Youth            1   \n",
       "4  SHQZEYTZ      Other       19            13.395572   Youth            0   \n",
       "\n",
       "   Channel_Code_X2  Channel_Code_X3  Channel_Code_X4  Credit_Product_No info  \\\n",
       "0                0                0                0                       0   \n",
       "1                1                0                0                       1   \n",
       "2                0                0                0                       0   \n",
       "3                0                0                0                       0   \n",
       "4                0                0                0                       0   \n",
       "\n",
       "   Credit_Product_Yes  Is_Active_Yes  Region_Code_ord  \n",
       "0                   1              0               32  \n",
       "1                   0              0               35  \n",
       "2                   0              0               22  \n",
       "3                   0              0               25  \n",
       "4                   0              0               22  "
      ]
     },
     "execution_count": 60,
     "metadata": {},
     "output_type": "execute_result"
    }
   ],
   "source": [
    "test['Region_Code_ord']=test['Region_Code'].map(ordinal_labels2)\n",
    "test = test.drop(['Region_Code'],axis = 1)\n",
    "test.head()"
   ]
  },
  {
   "cell_type": "markdown",
   "id": "f2112b29",
   "metadata": {},
   "source": [
    "## Occupation"
   ]
  },
  {
   "cell_type": "code",
   "execution_count": 61,
   "id": "3df91c02",
   "metadata": {},
   "outputs": [
    {
     "data": {
      "text/plain": [
       "Index(['Salaried', 'Other', 'Self_Employed'], dtype='object')"
      ]
     },
     "execution_count": 61,
     "metadata": {},
     "output_type": "execute_result"
    }
   ],
   "source": [
    "ordinal_labels=df[df['Is_Lead']==1]['Occupation'].value_counts().sort_values().index\n",
    "ordinal_labels"
   ]
  },
  {
   "cell_type": "code",
   "execution_count": 62,
   "id": "c33e1aa1",
   "metadata": {},
   "outputs": [
    {
     "data": {
      "text/plain": [
       "<enumerate at 0x2754dde5500>"
      ]
     },
     "execution_count": 62,
     "metadata": {},
     "output_type": "execute_result"
    }
   ],
   "source": [
    "enumerate(ordinal_labels,1)"
   ]
  },
  {
   "cell_type": "code",
   "execution_count": 63,
   "id": "c56153cd",
   "metadata": {},
   "outputs": [
    {
     "data": {
      "text/plain": [
       "{'Salaried': 1, 'Other': 2, 'Self_Employed': 3}"
      ]
     },
     "execution_count": 63,
     "metadata": {},
     "output_type": "execute_result"
    }
   ],
   "source": [
    "ordinal_labels2={k:i for i,k in enumerate(ordinal_labels,1)}\n",
    "ordinal_labels2"
   ]
  },
  {
   "cell_type": "code",
   "execution_count": 64,
   "id": "6ff7eb57",
   "metadata": {},
   "outputs": [
    {
     "data": {
      "text/html": [
       "<div>\n",
       "<style scoped>\n",
       "    .dataframe tbody tr th:only-of-type {\n",
       "        vertical-align: middle;\n",
       "    }\n",
       "\n",
       "    .dataframe tbody tr th {\n",
       "        vertical-align: top;\n",
       "    }\n",
       "\n",
       "    .dataframe thead th {\n",
       "        text-align: right;\n",
       "    }\n",
       "</style>\n",
       "<table border=\"1\" class=\"dataframe\">\n",
       "  <thead>\n",
       "    <tr style=\"text-align: right;\">\n",
       "      <th></th>\n",
       "      <th>Vintage</th>\n",
       "      <th>Avg_Account_Balance</th>\n",
       "      <th>Is_Lead</th>\n",
       "      <th>Age_cat</th>\n",
       "      <th>Gender_Male</th>\n",
       "      <th>Channel_Code_X2</th>\n",
       "      <th>Channel_Code_X3</th>\n",
       "      <th>Channel_Code_X4</th>\n",
       "      <th>Credit_Product_No info</th>\n",
       "      <th>Credit_Product_Yes</th>\n",
       "      <th>Is_Active_Yes</th>\n",
       "      <th>Region_Code_ord</th>\n",
       "      <th>Occupation_ord</th>\n",
       "    </tr>\n",
       "  </thead>\n",
       "  <tbody>\n",
       "    <tr>\n",
       "      <th>0</th>\n",
       "      <td>43</td>\n",
       "      <td>13.860193</td>\n",
       "      <td>0</td>\n",
       "      <td>Senior</td>\n",
       "      <td>0</td>\n",
       "      <td>0</td>\n",
       "      <td>1</td>\n",
       "      <td>0</td>\n",
       "      <td>0</td>\n",
       "      <td>0</td>\n",
       "      <td>0</td>\n",
       "      <td>35</td>\n",
       "      <td>2</td>\n",
       "    </tr>\n",
       "    <tr>\n",
       "      <th>1</th>\n",
       "      <td>32</td>\n",
       "      <td>13.274205</td>\n",
       "      <td>0</td>\n",
       "      <td>Youth</td>\n",
       "      <td>0</td>\n",
       "      <td>0</td>\n",
       "      <td>0</td>\n",
       "      <td>0</td>\n",
       "      <td>0</td>\n",
       "      <td>0</td>\n",
       "      <td>0</td>\n",
       "      <td>30</td>\n",
       "      <td>1</td>\n",
       "    </tr>\n",
       "    <tr>\n",
       "      <th>2</th>\n",
       "      <td>26</td>\n",
       "      <td>14.210464</td>\n",
       "      <td>0</td>\n",
       "      <td>Adult</td>\n",
       "      <td>0</td>\n",
       "      <td>0</td>\n",
       "      <td>1</td>\n",
       "      <td>0</td>\n",
       "      <td>0</td>\n",
       "      <td>0</td>\n",
       "      <td>1</td>\n",
       "      <td>35</td>\n",
       "      <td>3</td>\n",
       "    </tr>\n",
       "    <tr>\n",
       "      <th>3</th>\n",
       "      <td>19</td>\n",
       "      <td>13.061453</td>\n",
       "      <td>0</td>\n",
       "      <td>Youth</td>\n",
       "      <td>1</td>\n",
       "      <td>0</td>\n",
       "      <td>0</td>\n",
       "      <td>0</td>\n",
       "      <td>0</td>\n",
       "      <td>0</td>\n",
       "      <td>0</td>\n",
       "      <td>22</td>\n",
       "      <td>1</td>\n",
       "    </tr>\n",
       "    <tr>\n",
       "      <th>4</th>\n",
       "      <td>33</td>\n",
       "      <td>13.695360</td>\n",
       "      <td>0</td>\n",
       "      <td>Youth</td>\n",
       "      <td>0</td>\n",
       "      <td>0</td>\n",
       "      <td>0</td>\n",
       "      <td>0</td>\n",
       "      <td>0</td>\n",
       "      <td>0</td>\n",
       "      <td>0</td>\n",
       "      <td>24</td>\n",
       "      <td>1</td>\n",
       "    </tr>\n",
       "  </tbody>\n",
       "</table>\n",
       "</div>"
      ],
      "text/plain": [
       "   Vintage  Avg_Account_Balance  Is_Lead Age_cat  Gender_Male  \\\n",
       "0       43            13.860193        0  Senior            0   \n",
       "1       32            13.274205        0   Youth            0   \n",
       "2       26            14.210464        0   Adult            0   \n",
       "3       19            13.061453        0   Youth            1   \n",
       "4       33            13.695360        0   Youth            0   \n",
       "\n",
       "   Channel_Code_X2  Channel_Code_X3  Channel_Code_X4  Credit_Product_No info  \\\n",
       "0                0                1                0                       0   \n",
       "1                0                0                0                       0   \n",
       "2                0                1                0                       0   \n",
       "3                0                0                0                       0   \n",
       "4                0                0                0                       0   \n",
       "\n",
       "   Credit_Product_Yes  Is_Active_Yes  Region_Code_ord  Occupation_ord  \n",
       "0                   0              0               35               2  \n",
       "1                   0              0               30               1  \n",
       "2                   0              1               35               3  \n",
       "3                   0              0               22               1  \n",
       "4                   0              0               24               1  "
      ]
     },
     "execution_count": 64,
     "metadata": {},
     "output_type": "execute_result"
    }
   ],
   "source": [
    "df['Occupation_ord']=df['Occupation'].map(ordinal_labels2)\n",
    "df = df.drop(['Occupation'],axis = 1)\n",
    "df.head()"
   ]
  },
  {
   "cell_type": "code",
   "execution_count": 65,
   "id": "f48e8c76",
   "metadata": {},
   "outputs": [
    {
     "data": {
      "text/html": [
       "<div>\n",
       "<style scoped>\n",
       "    .dataframe tbody tr th:only-of-type {\n",
       "        vertical-align: middle;\n",
       "    }\n",
       "\n",
       "    .dataframe tbody tr th {\n",
       "        vertical-align: top;\n",
       "    }\n",
       "\n",
       "    .dataframe thead th {\n",
       "        text-align: right;\n",
       "    }\n",
       "</style>\n",
       "<table border=\"1\" class=\"dataframe\">\n",
       "  <thead>\n",
       "    <tr style=\"text-align: right;\">\n",
       "      <th></th>\n",
       "      <th>ID</th>\n",
       "      <th>Vintage</th>\n",
       "      <th>Avg_Account_Balance</th>\n",
       "      <th>Age_cat</th>\n",
       "      <th>Gender_Male</th>\n",
       "      <th>Channel_Code_X2</th>\n",
       "      <th>Channel_Code_X3</th>\n",
       "      <th>Channel_Code_X4</th>\n",
       "      <th>Credit_Product_No info</th>\n",
       "      <th>Credit_Product_Yes</th>\n",
       "      <th>Is_Active_Yes</th>\n",
       "      <th>Region_Code_ord</th>\n",
       "      <th>Occupation_ord</th>\n",
       "    </tr>\n",
       "  </thead>\n",
       "  <tbody>\n",
       "    <tr>\n",
       "      <th>0</th>\n",
       "      <td>VBENBARO</td>\n",
       "      <td>25</td>\n",
       "      <td>13.517598</td>\n",
       "      <td>Youth</td>\n",
       "      <td>1</td>\n",
       "      <td>0</td>\n",
       "      <td>0</td>\n",
       "      <td>0</td>\n",
       "      <td>0</td>\n",
       "      <td>1</td>\n",
       "      <td>0</td>\n",
       "      <td>32</td>\n",
       "      <td>2</td>\n",
       "    </tr>\n",
       "    <tr>\n",
       "      <th>1</th>\n",
       "      <td>CCMEWNKY</td>\n",
       "      <td>49</td>\n",
       "      <td>13.738129</td>\n",
       "      <td>Adult</td>\n",
       "      <td>1</td>\n",
       "      <td>1</td>\n",
       "      <td>0</td>\n",
       "      <td>0</td>\n",
       "      <td>1</td>\n",
       "      <td>0</td>\n",
       "      <td>0</td>\n",
       "      <td>35</td>\n",
       "      <td>2</td>\n",
       "    </tr>\n",
       "    <tr>\n",
       "      <th>2</th>\n",
       "      <td>VK3KGA9M</td>\n",
       "      <td>14</td>\n",
       "      <td>12.282798</td>\n",
       "      <td>Youth</td>\n",
       "      <td>1</td>\n",
       "      <td>0</td>\n",
       "      <td>0</td>\n",
       "      <td>0</td>\n",
       "      <td>0</td>\n",
       "      <td>0</td>\n",
       "      <td>0</td>\n",
       "      <td>22</td>\n",
       "      <td>1</td>\n",
       "    </tr>\n",
       "    <tr>\n",
       "      <th>3</th>\n",
       "      <td>TT8RPZVC</td>\n",
       "      <td>33</td>\n",
       "      <td>13.674028</td>\n",
       "      <td>Youth</td>\n",
       "      <td>1</td>\n",
       "      <td>0</td>\n",
       "      <td>0</td>\n",
       "      <td>0</td>\n",
       "      <td>0</td>\n",
       "      <td>0</td>\n",
       "      <td>0</td>\n",
       "      <td>25</td>\n",
       "      <td>2</td>\n",
       "    </tr>\n",
       "    <tr>\n",
       "      <th>4</th>\n",
       "      <td>SHQZEYTZ</td>\n",
       "      <td>19</td>\n",
       "      <td>13.395572</td>\n",
       "      <td>Youth</td>\n",
       "      <td>0</td>\n",
       "      <td>0</td>\n",
       "      <td>0</td>\n",
       "      <td>0</td>\n",
       "      <td>0</td>\n",
       "      <td>0</td>\n",
       "      <td>0</td>\n",
       "      <td>22</td>\n",
       "      <td>2</td>\n",
       "    </tr>\n",
       "  </tbody>\n",
       "</table>\n",
       "</div>"
      ],
      "text/plain": [
       "         ID  Vintage  Avg_Account_Balance Age_cat  Gender_Male  \\\n",
       "0  VBENBARO       25            13.517598   Youth            1   \n",
       "1  CCMEWNKY       49            13.738129   Adult            1   \n",
       "2  VK3KGA9M       14            12.282798   Youth            1   \n",
       "3  TT8RPZVC       33            13.674028   Youth            1   \n",
       "4  SHQZEYTZ       19            13.395572   Youth            0   \n",
       "\n",
       "   Channel_Code_X2  Channel_Code_X3  Channel_Code_X4  Credit_Product_No info  \\\n",
       "0                0                0                0                       0   \n",
       "1                1                0                0                       1   \n",
       "2                0                0                0                       0   \n",
       "3                0                0                0                       0   \n",
       "4                0                0                0                       0   \n",
       "\n",
       "   Credit_Product_Yes  Is_Active_Yes  Region_Code_ord  Occupation_ord  \n",
       "0                   1              0               32               2  \n",
       "1                   0              0               35               2  \n",
       "2                   0              0               22               1  \n",
       "3                   0              0               25               2  \n",
       "4                   0              0               22               2  "
      ]
     },
     "execution_count": 65,
     "metadata": {},
     "output_type": "execute_result"
    }
   ],
   "source": [
    "test['Occupation_ord']=test['Occupation'].map(ordinal_labels2)\n",
    "test = test.drop(['Occupation'],axis = 1)\n",
    "test.head()"
   ]
  },
  {
   "cell_type": "markdown",
   "id": "f1ac5ea2",
   "metadata": {},
   "source": [
    "## Age_cat"
   ]
  },
  {
   "cell_type": "code",
   "execution_count": 66,
   "id": "916f973e",
   "metadata": {},
   "outputs": [],
   "source": [
    "Age_map = {\"Youth\":1,\"Senior\":2,\"Adult\":3}\n",
    "df['Age_cat'] = df.Age_cat.map(Age_map)\n",
    "test['Age_cat'] = test.Age_cat.map(Age_map)"
   ]
  },
  {
   "cell_type": "code",
   "execution_count": 67,
   "id": "478cee51",
   "metadata": {},
   "outputs": [
    {
     "data": {
      "text/html": [
       "<div>\n",
       "<style scoped>\n",
       "    .dataframe tbody tr th:only-of-type {\n",
       "        vertical-align: middle;\n",
       "    }\n",
       "\n",
       "    .dataframe tbody tr th {\n",
       "        vertical-align: top;\n",
       "    }\n",
       "\n",
       "    .dataframe thead th {\n",
       "        text-align: right;\n",
       "    }\n",
       "</style>\n",
       "<table border=\"1\" class=\"dataframe\">\n",
       "  <thead>\n",
       "    <tr style=\"text-align: right;\">\n",
       "      <th></th>\n",
       "      <th>Vintage</th>\n",
       "      <th>Avg_Account_Balance</th>\n",
       "      <th>Is_Lead</th>\n",
       "      <th>Age_cat</th>\n",
       "      <th>Gender_Male</th>\n",
       "      <th>Channel_Code_X2</th>\n",
       "      <th>Channel_Code_X3</th>\n",
       "      <th>Channel_Code_X4</th>\n",
       "      <th>Credit_Product_No info</th>\n",
       "      <th>Credit_Product_Yes</th>\n",
       "      <th>Is_Active_Yes</th>\n",
       "      <th>Region_Code_ord</th>\n",
       "      <th>Occupation_ord</th>\n",
       "    </tr>\n",
       "  </thead>\n",
       "  <tbody>\n",
       "    <tr>\n",
       "      <th>0</th>\n",
       "      <td>43</td>\n",
       "      <td>13.860193</td>\n",
       "      <td>0</td>\n",
       "      <td>2</td>\n",
       "      <td>0</td>\n",
       "      <td>0</td>\n",
       "      <td>1</td>\n",
       "      <td>0</td>\n",
       "      <td>0</td>\n",
       "      <td>0</td>\n",
       "      <td>0</td>\n",
       "      <td>35</td>\n",
       "      <td>2</td>\n",
       "    </tr>\n",
       "    <tr>\n",
       "      <th>1</th>\n",
       "      <td>32</td>\n",
       "      <td>13.274205</td>\n",
       "      <td>0</td>\n",
       "      <td>1</td>\n",
       "      <td>0</td>\n",
       "      <td>0</td>\n",
       "      <td>0</td>\n",
       "      <td>0</td>\n",
       "      <td>0</td>\n",
       "      <td>0</td>\n",
       "      <td>0</td>\n",
       "      <td>30</td>\n",
       "      <td>1</td>\n",
       "    </tr>\n",
       "    <tr>\n",
       "      <th>2</th>\n",
       "      <td>26</td>\n",
       "      <td>14.210464</td>\n",
       "      <td>0</td>\n",
       "      <td>3</td>\n",
       "      <td>0</td>\n",
       "      <td>0</td>\n",
       "      <td>1</td>\n",
       "      <td>0</td>\n",
       "      <td>0</td>\n",
       "      <td>0</td>\n",
       "      <td>1</td>\n",
       "      <td>35</td>\n",
       "      <td>3</td>\n",
       "    </tr>\n",
       "    <tr>\n",
       "      <th>3</th>\n",
       "      <td>19</td>\n",
       "      <td>13.061453</td>\n",
       "      <td>0</td>\n",
       "      <td>1</td>\n",
       "      <td>1</td>\n",
       "      <td>0</td>\n",
       "      <td>0</td>\n",
       "      <td>0</td>\n",
       "      <td>0</td>\n",
       "      <td>0</td>\n",
       "      <td>0</td>\n",
       "      <td>22</td>\n",
       "      <td>1</td>\n",
       "    </tr>\n",
       "    <tr>\n",
       "      <th>4</th>\n",
       "      <td>33</td>\n",
       "      <td>13.695360</td>\n",
       "      <td>0</td>\n",
       "      <td>1</td>\n",
       "      <td>0</td>\n",
       "      <td>0</td>\n",
       "      <td>0</td>\n",
       "      <td>0</td>\n",
       "      <td>0</td>\n",
       "      <td>0</td>\n",
       "      <td>0</td>\n",
       "      <td>24</td>\n",
       "      <td>1</td>\n",
       "    </tr>\n",
       "  </tbody>\n",
       "</table>\n",
       "</div>"
      ],
      "text/plain": [
       "   Vintage  Avg_Account_Balance  Is_Lead  Age_cat  Gender_Male  \\\n",
       "0       43            13.860193        0        2            0   \n",
       "1       32            13.274205        0        1            0   \n",
       "2       26            14.210464        0        3            0   \n",
       "3       19            13.061453        0        1            1   \n",
       "4       33            13.695360        0        1            0   \n",
       "\n",
       "   Channel_Code_X2  Channel_Code_X3  Channel_Code_X4  Credit_Product_No info  \\\n",
       "0                0                1                0                       0   \n",
       "1                0                0                0                       0   \n",
       "2                0                1                0                       0   \n",
       "3                0                0                0                       0   \n",
       "4                0                0                0                       0   \n",
       "\n",
       "   Credit_Product_Yes  Is_Active_Yes  Region_Code_ord  Occupation_ord  \n",
       "0                   0              0               35               2  \n",
       "1                   0              0               30               1  \n",
       "2                   0              1               35               3  \n",
       "3                   0              0               22               1  \n",
       "4                   0              0               24               1  "
      ]
     },
     "execution_count": 67,
     "metadata": {},
     "output_type": "execute_result"
    }
   ],
   "source": [
    "df.head()"
   ]
  },
  {
   "cell_type": "code",
   "execution_count": 68,
   "id": "8bda3000",
   "metadata": {},
   "outputs": [
    {
     "data": {
      "text/html": [
       "<div>\n",
       "<style scoped>\n",
       "    .dataframe tbody tr th:only-of-type {\n",
       "        vertical-align: middle;\n",
       "    }\n",
       "\n",
       "    .dataframe tbody tr th {\n",
       "        vertical-align: top;\n",
       "    }\n",
       "\n",
       "    .dataframe thead th {\n",
       "        text-align: right;\n",
       "    }\n",
       "</style>\n",
       "<table border=\"1\" class=\"dataframe\">\n",
       "  <thead>\n",
       "    <tr style=\"text-align: right;\">\n",
       "      <th></th>\n",
       "      <th>ID</th>\n",
       "      <th>Vintage</th>\n",
       "      <th>Avg_Account_Balance</th>\n",
       "      <th>Age_cat</th>\n",
       "      <th>Gender_Male</th>\n",
       "      <th>Channel_Code_X2</th>\n",
       "      <th>Channel_Code_X3</th>\n",
       "      <th>Channel_Code_X4</th>\n",
       "      <th>Credit_Product_No info</th>\n",
       "      <th>Credit_Product_Yes</th>\n",
       "      <th>Is_Active_Yes</th>\n",
       "      <th>Region_Code_ord</th>\n",
       "      <th>Occupation_ord</th>\n",
       "    </tr>\n",
       "  </thead>\n",
       "  <tbody>\n",
       "    <tr>\n",
       "      <th>0</th>\n",
       "      <td>VBENBARO</td>\n",
       "      <td>25</td>\n",
       "      <td>13.517598</td>\n",
       "      <td>1</td>\n",
       "      <td>1</td>\n",
       "      <td>0</td>\n",
       "      <td>0</td>\n",
       "      <td>0</td>\n",
       "      <td>0</td>\n",
       "      <td>1</td>\n",
       "      <td>0</td>\n",
       "      <td>32</td>\n",
       "      <td>2</td>\n",
       "    </tr>\n",
       "    <tr>\n",
       "      <th>1</th>\n",
       "      <td>CCMEWNKY</td>\n",
       "      <td>49</td>\n",
       "      <td>13.738129</td>\n",
       "      <td>3</td>\n",
       "      <td>1</td>\n",
       "      <td>1</td>\n",
       "      <td>0</td>\n",
       "      <td>0</td>\n",
       "      <td>1</td>\n",
       "      <td>0</td>\n",
       "      <td>0</td>\n",
       "      <td>35</td>\n",
       "      <td>2</td>\n",
       "    </tr>\n",
       "    <tr>\n",
       "      <th>2</th>\n",
       "      <td>VK3KGA9M</td>\n",
       "      <td>14</td>\n",
       "      <td>12.282798</td>\n",
       "      <td>1</td>\n",
       "      <td>1</td>\n",
       "      <td>0</td>\n",
       "      <td>0</td>\n",
       "      <td>0</td>\n",
       "      <td>0</td>\n",
       "      <td>0</td>\n",
       "      <td>0</td>\n",
       "      <td>22</td>\n",
       "      <td>1</td>\n",
       "    </tr>\n",
       "    <tr>\n",
       "      <th>3</th>\n",
       "      <td>TT8RPZVC</td>\n",
       "      <td>33</td>\n",
       "      <td>13.674028</td>\n",
       "      <td>1</td>\n",
       "      <td>1</td>\n",
       "      <td>0</td>\n",
       "      <td>0</td>\n",
       "      <td>0</td>\n",
       "      <td>0</td>\n",
       "      <td>0</td>\n",
       "      <td>0</td>\n",
       "      <td>25</td>\n",
       "      <td>2</td>\n",
       "    </tr>\n",
       "    <tr>\n",
       "      <th>4</th>\n",
       "      <td>SHQZEYTZ</td>\n",
       "      <td>19</td>\n",
       "      <td>13.395572</td>\n",
       "      <td>1</td>\n",
       "      <td>0</td>\n",
       "      <td>0</td>\n",
       "      <td>0</td>\n",
       "      <td>0</td>\n",
       "      <td>0</td>\n",
       "      <td>0</td>\n",
       "      <td>0</td>\n",
       "      <td>22</td>\n",
       "      <td>2</td>\n",
       "    </tr>\n",
       "  </tbody>\n",
       "</table>\n",
       "</div>"
      ],
      "text/plain": [
       "         ID  Vintage  Avg_Account_Balance  Age_cat  Gender_Male  \\\n",
       "0  VBENBARO       25            13.517598        1            1   \n",
       "1  CCMEWNKY       49            13.738129        3            1   \n",
       "2  VK3KGA9M       14            12.282798        1            1   \n",
       "3  TT8RPZVC       33            13.674028        1            1   \n",
       "4  SHQZEYTZ       19            13.395572        1            0   \n",
       "\n",
       "   Channel_Code_X2  Channel_Code_X3  Channel_Code_X4  Credit_Product_No info  \\\n",
       "0                0                0                0                       0   \n",
       "1                1                0                0                       1   \n",
       "2                0                0                0                       0   \n",
       "3                0                0                0                       0   \n",
       "4                0                0                0                       0   \n",
       "\n",
       "   Credit_Product_Yes  Is_Active_Yes  Region_Code_ord  Occupation_ord  \n",
       "0                   1              0               32               2  \n",
       "1                   0              0               35               2  \n",
       "2                   0              0               22               1  \n",
       "3                   0              0               25               2  \n",
       "4                   0              0               22               2  "
      ]
     },
     "execution_count": 68,
     "metadata": {},
     "output_type": "execute_result"
    }
   ],
   "source": [
    "test.head()"
   ]
  },
  {
   "cell_type": "markdown",
   "id": "749c6eb0",
   "metadata": {},
   "source": [
    "## Correlation"
   ]
  },
  {
   "cell_type": "code",
   "execution_count": 69,
   "id": "13132385",
   "metadata": {},
   "outputs": [
    {
     "data": {
      "text/plain": [
       "<function matplotlib.pyplot.show(close=None, block=None)>"
      ]
     },
     "execution_count": 69,
     "metadata": {},
     "output_type": "execute_result"
    },
    {
     "data": {
      "image/png": "[encoded data removed]",
      "text/plain": [
       "<Figure size 936x360 with 2 Axes>"
      ]
     },
     "metadata": {},
     "output_type": "display_data"
    }
   ],
   "source": [
    "corr_train_df = df.corr()\n",
    "plt.figure(figsize=(13,5)) \n",
    "sns.color_palette(\"magma\", as_cmap=True)\n",
    "ax = sns.heatmap(corr_train_df, annot=True, cmap=\"magma\")\n",
    "plt.show"
   ]
  },
  {
   "cell_type": "code",
   "execution_count": 70,
   "id": "fb06f5a9",
   "metadata": {},
   "outputs": [],
   "source": [
    "Train = df.drop([\"Is_Lead\"], axis=1) ## X_train\n",
    "Test = test ## X_test\n",
    "Train_Is_Lead = df[\"Is_Lead\"] ## y_train"
   ]
  },
  {
   "cell_type": "code",
   "execution_count": 71,
   "id": "34ea2e3c",
   "metadata": {},
   "outputs": [
    {
     "name": "stdout",
     "output_type": "stream",
     "text": [
      "<class 'pandas.core.frame.DataFrame'>\n",
      "RangeIndex: 245725 entries, 0 to 245724\n",
      "Data columns (total 12 columns):\n",
      " #   Column                  Non-Null Count   Dtype  \n",
      "---  ------                  --------------   -----  \n",
      " 0   Vintage                 245725 non-null  int64  \n",
      " 1   Avg_Account_Balance     245725 non-null  float64\n",
      " 2   Age_cat                 245725 non-null  int64  \n",
      " 3   Gender_Male             245725 non-null  uint8  \n",
      " 4   Channel_Code_X2         245725 non-null  uint8  \n",
      " 5   Channel_Code_X3         245725 non-null  uint8  \n",
      " 6   Channel_Code_X4         245725 non-null  uint8  \n",
      " 7   Credit_Product_No info  245725 non-null  uint8  \n",
      " 8   Credit_Product_Yes      245725 non-null  uint8  \n",
      " 9   Is_Active_Yes           245725 non-null  uint8  \n",
      " 10  Region_Code_ord         245725 non-null  int64  \n",
      " 11  Occupation_ord          245725 non-null  int64  \n",
      "dtypes: float64(1), int64(4), uint8(7)\n",
      "memory usage: 11.0 MB\n"
     ]
    }
   ],
   "source": [
    "Train.info()"
   ]
  },
  {
   "cell_type": "code",
   "execution_count": 72,
   "id": "caab2ca2",
   "metadata": {},
   "outputs": [
    {
     "name": "stdout",
     "output_type": "stream",
     "text": [
      "<class 'pandas.core.frame.DataFrame'>\n",
      "RangeIndex: 105312 entries, 0 to 105311\n",
      "Data columns (total 13 columns):\n",
      " #   Column                  Non-Null Count   Dtype  \n",
      "---  ------                  --------------   -----  \n",
      " 0   ID                      105312 non-null  object \n",
      " 1   Vintage                 105312 non-null  int64  \n",
      " 2   Avg_Account_Balance     105312 non-null  float64\n",
      " 3   Age_cat                 105312 non-null  int64  \n",
      " 4   Gender_Male             105312 non-null  uint8  \n",
      " 5   Channel_Code_X2         105312 non-null  uint8  \n",
      " 6   Channel_Code_X3         105312 non-null  uint8  \n",
      " 7   Channel_Code_X4         105312 non-null  uint8  \n",
      " 8   Credit_Product_No info  105312 non-null  uint8  \n",
      " 9   Credit_Product_Yes      105312 non-null  uint8  \n",
      " 10  Is_Active_Yes           105312 non-null  uint8  \n",
      " 11  Region_Code_ord         105312 non-null  int64  \n",
      " 12  Occupation_ord          105312 non-null  int64  \n",
      "dtypes: float64(1), int64(4), object(1), uint8(7)\n",
      "memory usage: 5.5+ MB\n"
     ]
    }
   ],
   "source": [
    "Test.info()"
   ]
  },
  {
   "cell_type": "code",
   "execution_count": 73,
   "id": "41d0e9eb",
   "metadata": {},
   "outputs": [],
   "source": [
    "Train_othr = Train.select_dtypes(exclude = ['int64','float64'])\n",
    "Test_othr = Test.select_dtypes(exclude = ['int64','float64'])\n",
    "\n",
    "Train_numerical = Train.select_dtypes(include = ['int64','float64'])\n",
    "col_names_Train = Train_numerical.columns.values.tolist()\n",
    "\n",
    "Test_numerical = Test.select_dtypes(include = ['int64','float64'])\n",
    "col_names_Test = Test_numerical.columns.values.tolist()"
   ]
  },
  {
   "cell_type": "code",
   "execution_count": 74,
   "id": "f2f2bccc",
   "metadata": {},
   "outputs": [
    {
     "data": {
      "text/html": [
       "<div>\n",
       "<style scoped>\n",
       "    .dataframe tbody tr th:only-of-type {\n",
       "        vertical-align: middle;\n",
       "    }\n",
       "\n",
       "    .dataframe tbody tr th {\n",
       "        vertical-align: top;\n",
       "    }\n",
       "\n",
       "    .dataframe thead th {\n",
       "        text-align: right;\n",
       "    }\n",
       "</style>\n",
       "<table border=\"1\" class=\"dataframe\">\n",
       "  <thead>\n",
       "    <tr style=\"text-align: right;\">\n",
       "      <th></th>\n",
       "      <th>Vintage</th>\n",
       "      <th>Avg_Account_Balance</th>\n",
       "      <th>Age_cat</th>\n",
       "      <th>Region_Code_ord</th>\n",
       "      <th>Occupation_ord</th>\n",
       "    </tr>\n",
       "  </thead>\n",
       "  <tbody>\n",
       "    <tr>\n",
       "      <th>0</th>\n",
       "      <td>43</td>\n",
       "      <td>13.860193</td>\n",
       "      <td>2</td>\n",
       "      <td>35</td>\n",
       "      <td>2</td>\n",
       "    </tr>\n",
       "    <tr>\n",
       "      <th>1</th>\n",
       "      <td>32</td>\n",
       "      <td>13.274205</td>\n",
       "      <td>1</td>\n",
       "      <td>30</td>\n",
       "      <td>1</td>\n",
       "    </tr>\n",
       "    <tr>\n",
       "      <th>2</th>\n",
       "      <td>26</td>\n",
       "      <td>14.210464</td>\n",
       "      <td>3</td>\n",
       "      <td>35</td>\n",
       "      <td>3</td>\n",
       "    </tr>\n",
       "    <tr>\n",
       "      <th>3</th>\n",
       "      <td>19</td>\n",
       "      <td>13.061453</td>\n",
       "      <td>1</td>\n",
       "      <td>22</td>\n",
       "      <td>1</td>\n",
       "    </tr>\n",
       "    <tr>\n",
       "      <th>4</th>\n",
       "      <td>33</td>\n",
       "      <td>13.695360</td>\n",
       "      <td>1</td>\n",
       "      <td>24</td>\n",
       "      <td>1</td>\n",
       "    </tr>\n",
       "  </tbody>\n",
       "</table>\n",
       "</div>"
      ],
      "text/plain": [
       "   Vintage  Avg_Account_Balance  Age_cat  Region_Code_ord  Occupation_ord\n",
       "0       43            13.860193        2               35               2\n",
       "1       32            13.274205        1               30               1\n",
       "2       26            14.210464        3               35               3\n",
       "3       19            13.061453        1               22               1\n",
       "4       33            13.695360        1               24               1"
      ]
     },
     "execution_count": 74,
     "metadata": {},
     "output_type": "execute_result"
    }
   ],
   "source": [
    "Train_numerical.head()"
   ]
  },
  {
   "cell_type": "markdown",
   "id": "59cf1213",
   "metadata": {},
   "source": [
    "## Scaling Data"
   ]
  },
  {
   "cell_type": "code",
   "execution_count": 75,
   "id": "8a054af3",
   "metadata": {},
   "outputs": [],
   "source": [
    "# Using standard Scaler - data scaling.\n",
    "\n",
    "from sklearn.preprocessing import StandardScaler"
   ]
  },
  {
   "cell_type": "code",
   "execution_count": 76,
   "id": "02ee10a4",
   "metadata": {},
   "outputs": [],
   "source": [
    "scaler = StandardScaler()\n",
    "\n",
    "Train_numerical = scaler.fit_transform(Train_numerical.values)\n",
    "Train_numerical = pd.DataFrame(Train_numerical, columns = col_names_Train)\n",
    "\n",
    "Test_numerical = scaler.transform(Test_numerical.values)\n",
    "Test_numerical = pd.DataFrame(Test_numerical, columns = col_names_Test)"
   ]
  },
  {
   "cell_type": "code",
   "execution_count": 77,
   "id": "660d89f1",
   "metadata": {},
   "outputs": [],
   "source": [
    "train_new_df = pd.concat([Train_othr,pd.DataFrame(Train_numerical),Train_Is_Lead],axis=1)\n",
    "test_new_df = pd.concat([Test_othr,pd.DataFrame(Test_numerical)],axis=1)"
   ]
  },
  {
   "cell_type": "code",
   "execution_count": 78,
   "id": "b86d5851",
   "metadata": {},
   "outputs": [
    {
     "data": {
      "text/html": [
       "<div>\n",
       "<style scoped>\n",
       "    .dataframe tbody tr th:only-of-type {\n",
       "        vertical-align: middle;\n",
       "    }\n",
       "\n",
       "    .dataframe tbody tr th {\n",
       "        vertical-align: top;\n",
       "    }\n",
       "\n",
       "    .dataframe thead th {\n",
       "        text-align: right;\n",
       "    }\n",
       "</style>\n",
       "<table border=\"1\" class=\"dataframe\">\n",
       "  <thead>\n",
       "    <tr style=\"text-align: right;\">\n",
       "      <th></th>\n",
       "      <th>Gender_Male</th>\n",
       "      <th>Channel_Code_X2</th>\n",
       "      <th>Channel_Code_X3</th>\n",
       "      <th>Channel_Code_X4</th>\n",
       "      <th>Credit_Product_No info</th>\n",
       "      <th>Credit_Product_Yes</th>\n",
       "      <th>Is_Active_Yes</th>\n",
       "      <th>Vintage</th>\n",
       "      <th>Avg_Account_Balance</th>\n",
       "      <th>Age_cat</th>\n",
       "      <th>Region_Code_ord</th>\n",
       "      <th>Occupation_ord</th>\n",
       "      <th>Is_Lead</th>\n",
       "    </tr>\n",
       "  </thead>\n",
       "  <tbody>\n",
       "    <tr>\n",
       "      <th>0</th>\n",
       "      <td>0</td>\n",
       "      <td>0</td>\n",
       "      <td>1</td>\n",
       "      <td>0</td>\n",
       "      <td>0</td>\n",
       "      <td>0</td>\n",
       "      <td>0</td>\n",
       "      <td>-0.122373</td>\n",
       "      <td>0.204552</td>\n",
       "      <td>-0.135733</td>\n",
       "      <td>0.925696</td>\n",
       "      <td>-0.153708</td>\n",
       "      <td>0</td>\n",
       "    </tr>\n",
       "    <tr>\n",
       "      <th>1</th>\n",
       "      <td>0</td>\n",
       "      <td>0</td>\n",
       "      <td>0</td>\n",
       "      <td>0</td>\n",
       "      <td>0</td>\n",
       "      <td>0</td>\n",
       "      <td>0</td>\n",
       "      <td>-0.462372</td>\n",
       "      <td>-0.740962</td>\n",
       "      <td>-1.194823</td>\n",
       "      <td>0.358983</td>\n",
       "      <td>-1.350704</td>\n",
       "      <td>0</td>\n",
       "    </tr>\n",
       "    <tr>\n",
       "      <th>2</th>\n",
       "      <td>0</td>\n",
       "      <td>0</td>\n",
       "      <td>1</td>\n",
       "      <td>0</td>\n",
       "      <td>0</td>\n",
       "      <td>0</td>\n",
       "      <td>1</td>\n",
       "      <td>-0.647825</td>\n",
       "      <td>0.769727</td>\n",
       "      <td>0.923358</td>\n",
       "      <td>0.925696</td>\n",
       "      <td>1.043287</td>\n",
       "      <td>0</td>\n",
       "    </tr>\n",
       "    <tr>\n",
       "      <th>3</th>\n",
       "      <td>1</td>\n",
       "      <td>0</td>\n",
       "      <td>0</td>\n",
       "      <td>0</td>\n",
       "      <td>0</td>\n",
       "      <td>0</td>\n",
       "      <td>0</td>\n",
       "      <td>-0.864188</td>\n",
       "      <td>-1.084245</td>\n",
       "      <td>-1.194823</td>\n",
       "      <td>-0.547758</td>\n",
       "      <td>-1.350704</td>\n",
       "      <td>0</td>\n",
       "    </tr>\n",
       "    <tr>\n",
       "      <th>4</th>\n",
       "      <td>0</td>\n",
       "      <td>0</td>\n",
       "      <td>0</td>\n",
       "      <td>0</td>\n",
       "      <td>0</td>\n",
       "      <td>0</td>\n",
       "      <td>0</td>\n",
       "      <td>-0.431463</td>\n",
       "      <td>-0.061413</td>\n",
       "      <td>-1.194823</td>\n",
       "      <td>-0.321073</td>\n",
       "      <td>-1.350704</td>\n",
       "      <td>0</td>\n",
       "    </tr>\n",
       "  </tbody>\n",
       "</table>\n",
       "</div>"
      ],
      "text/plain": [
       "   Gender_Male  Channel_Code_X2  Channel_Code_X3  Channel_Code_X4  \\\n",
       "0            0                0                1                0   \n",
       "1            0                0                0                0   \n",
       "2            0                0                1                0   \n",
       "3            1                0                0                0   \n",
       "4            0                0                0                0   \n",
       "\n",
       "   Credit_Product_No info  Credit_Product_Yes  Is_Active_Yes   Vintage  \\\n",
       "0                       0                   0              0 -0.122373   \n",
       "1                       0                   0              0 -0.462372   \n",
       "2                       0                   0              1 -0.647825   \n",
       "3                       0                   0              0 -0.864188   \n",
       "4                       0                   0              0 -0.431463   \n",
       "\n",
       "   Avg_Account_Balance   Age_cat  Region_Code_ord  Occupation_ord  Is_Lead  \n",
       "0             0.204552 -0.135733         0.925696       -0.153708        0  \n",
       "1            -0.740962 -1.194823         0.358983       -1.350704        0  \n",
       "2             0.769727  0.923358         0.925696        1.043287        0  \n",
       "3            -1.084245 -1.194823        -0.547758       -1.350704        0  \n",
       "4            -0.061413 -1.194823        -0.321073       -1.350704        0  "
      ]
     },
     "execution_count": 78,
     "metadata": {},
     "output_type": "execute_result"
    }
   ],
   "source": [
    "train_new_df.head()"
   ]
  },
  {
   "cell_type": "code",
   "execution_count": 79,
   "id": "07f11588",
   "metadata": {},
   "outputs": [
    {
     "data": {
      "text/html": [
       "<div>\n",
       "<style scoped>\n",
       "    .dataframe tbody tr th:only-of-type {\n",
       "        vertical-align: middle;\n",
       "    }\n",
       "\n",
       "    .dataframe tbody tr th {\n",
       "        vertical-align: top;\n",
       "    }\n",
       "\n",
       "    .dataframe thead th {\n",
       "        text-align: right;\n",
       "    }\n",
       "</style>\n",
       "<table border=\"1\" class=\"dataframe\">\n",
       "  <thead>\n",
       "    <tr style=\"text-align: right;\">\n",
       "      <th></th>\n",
       "      <th>ID</th>\n",
       "      <th>Gender_Male</th>\n",
       "      <th>Channel_Code_X2</th>\n",
       "      <th>Channel_Code_X3</th>\n",
       "      <th>Channel_Code_X4</th>\n",
       "      <th>Credit_Product_No info</th>\n",
       "      <th>Credit_Product_Yes</th>\n",
       "      <th>Is_Active_Yes</th>\n",
       "      <th>Vintage</th>\n",
       "      <th>Avg_Account_Balance</th>\n",
       "      <th>Age_cat</th>\n",
       "      <th>Region_Code_ord</th>\n",
       "      <th>Occupation_ord</th>\n",
       "    </tr>\n",
       "  </thead>\n",
       "  <tbody>\n",
       "    <tr>\n",
       "      <th>0</th>\n",
       "      <td>VBENBARO</td>\n",
       "      <td>1</td>\n",
       "      <td>0</td>\n",
       "      <td>0</td>\n",
       "      <td>0</td>\n",
       "      <td>0</td>\n",
       "      <td>1</td>\n",
       "      <td>0</td>\n",
       "      <td>-0.678734</td>\n",
       "      <td>-0.348239</td>\n",
       "      <td>-1.194823</td>\n",
       "      <td>0.585668</td>\n",
       "      <td>-0.153708</td>\n",
       "    </tr>\n",
       "    <tr>\n",
       "      <th>1</th>\n",
       "      <td>CCMEWNKY</td>\n",
       "      <td>1</td>\n",
       "      <td>1</td>\n",
       "      <td>0</td>\n",
       "      <td>0</td>\n",
       "      <td>1</td>\n",
       "      <td>0</td>\n",
       "      <td>0</td>\n",
       "      <td>0.063081</td>\n",
       "      <td>0.007597</td>\n",
       "      <td>0.923358</td>\n",
       "      <td>0.925696</td>\n",
       "      <td>-0.153708</td>\n",
       "    </tr>\n",
       "    <tr>\n",
       "      <th>2</th>\n",
       "      <td>VK3KGA9M</td>\n",
       "      <td>1</td>\n",
       "      <td>0</td>\n",
       "      <td>0</td>\n",
       "      <td>0</td>\n",
       "      <td>0</td>\n",
       "      <td>0</td>\n",
       "      <td>0</td>\n",
       "      <td>-1.018733</td>\n",
       "      <td>-2.340635</td>\n",
       "      <td>-1.194823</td>\n",
       "      <td>-0.547758</td>\n",
       "      <td>-1.350704</td>\n",
       "    </tr>\n",
       "    <tr>\n",
       "      <th>3</th>\n",
       "      <td>TT8RPZVC</td>\n",
       "      <td>1</td>\n",
       "      <td>0</td>\n",
       "      <td>0</td>\n",
       "      <td>0</td>\n",
       "      <td>0</td>\n",
       "      <td>0</td>\n",
       "      <td>0</td>\n",
       "      <td>-0.431463</td>\n",
       "      <td>-0.095833</td>\n",
       "      <td>-1.194823</td>\n",
       "      <td>-0.207730</td>\n",
       "      <td>-0.153708</td>\n",
       "    </tr>\n",
       "    <tr>\n",
       "      <th>4</th>\n",
       "      <td>SHQZEYTZ</td>\n",
       "      <td>0</td>\n",
       "      <td>0</td>\n",
       "      <td>0</td>\n",
       "      <td>0</td>\n",
       "      <td>0</td>\n",
       "      <td>0</td>\n",
       "      <td>0</td>\n",
       "      <td>-0.864188</td>\n",
       "      <td>-0.545133</td>\n",
       "      <td>-1.194823</td>\n",
       "      <td>-0.547758</td>\n",
       "      <td>-0.153708</td>\n",
       "    </tr>\n",
       "  </tbody>\n",
       "</table>\n",
       "</div>"
      ],
      "text/plain": [
       "         ID  Gender_Male  Channel_Code_X2  Channel_Code_X3  Channel_Code_X4  \\\n",
       "0  VBENBARO            1                0                0                0   \n",
       "1  CCMEWNKY            1                1                0                0   \n",
       "2  VK3KGA9M            1                0                0                0   \n",
       "3  TT8RPZVC            1                0                0                0   \n",
       "4  SHQZEYTZ            0                0                0                0   \n",
       "\n",
       "   Credit_Product_No info  Credit_Product_Yes  Is_Active_Yes   Vintage  \\\n",
       "0                       0                   1              0 -0.678734   \n",
       "1                       1                   0              0  0.063081   \n",
       "2                       0                   0              0 -1.018733   \n",
       "3                       0                   0              0 -0.431463   \n",
       "4                       0                   0              0 -0.864188   \n",
       "\n",
       "   Avg_Account_Balance   Age_cat  Region_Code_ord  Occupation_ord  \n",
       "0            -0.348239 -1.194823         0.585668       -0.153708  \n",
       "1             0.007597  0.923358         0.925696       -0.153708  \n",
       "2            -2.340635 -1.194823        -0.547758       -1.350704  \n",
       "3            -0.095833 -1.194823        -0.207730       -0.153708  \n",
       "4            -0.545133 -1.194823        -0.547758       -0.153708  "
      ]
     },
     "execution_count": 79,
     "metadata": {},
     "output_type": "execute_result"
    }
   ],
   "source": [
    "test_new_df.head()"
   ]
  },
  {
   "cell_type": "code",
   "execution_count": 80,
   "id": "df7fa24b",
   "metadata": {},
   "outputs": [
    {
     "data": {
      "text/plain": [
       "<function matplotlib.pyplot.show(close=None, block=None)>"
      ]
     },
     "execution_count": 80,
     "metadata": {},
     "output_type": "execute_result"
    },
    {
     "data": {
      "image/png": "[encoded data removed]",
      "text/plain": [
       "<Figure size 936x360 with 2 Axes>"
      ]
     },
     "metadata": {},
     "output_type": "display_data"
    }
   ],
   "source": [
    "corr_train_df = train_new_df.corr()\n",
    "plt.figure(figsize=(13,5)) \n",
    "sns.color_palette(\"magma\", as_cmap=True)\n",
    "ax = sns.heatmap(corr_train_df, annot=True, cmap=\"magma\")\n",
    "plt.show"
   ]
  },
  {
   "cell_type": "code",
   "execution_count": 81,
   "id": "92664912",
   "metadata": {},
   "outputs": [
    {
     "data": {
      "text/plain": [
       "skew        0.235178\n",
       "kurtosis    0.306033\n",
       "Name: Avg_Account_Balance, dtype: float64"
      ]
     },
     "execution_count": 81,
     "metadata": {},
     "output_type": "execute_result"
    }
   ],
   "source": [
    "train_new_df['Avg_Account_Balance'].agg(['skew', 'kurtosis']).transpose()"
   ]
  },
  {
   "cell_type": "markdown",
   "id": "0da603a7",
   "metadata": {},
   "source": [
    "## Modelling"
   ]
  },
  {
   "cell_type": "code",
   "execution_count": 82,
   "id": "98a41c0c",
   "metadata": {},
   "outputs": [],
   "source": [
    "# Split the Train data into predictors and target\n",
    "\n",
    "predictor_train = train_new_df.drop(['Is_Lead'],axis=1)\n",
    "predictor_test = test_new_df.drop(['ID'], axis =1)\n",
    "target_train    = train_new_df['Is_Lead']"
   ]
  },
  {
   "cell_type": "code",
   "execution_count": 83,
   "id": "04412e57",
   "metadata": {},
   "outputs": [
    {
     "data": {
      "text/plain": [
       "Index(['Gender_Male', 'Channel_Code_X2', 'Channel_Code_X3', 'Channel_Code_X4',\n",
       "       'Credit_Product_No info', 'Credit_Product_Yes', 'Is_Active_Yes',\n",
       "       'Vintage', 'Avg_Account_Balance', 'Age_cat', 'Region_Code_ord',\n",
       "       'Occupation_ord'],\n",
       "      dtype='object')"
      ]
     },
     "execution_count": 83,
     "metadata": {},
     "output_type": "execute_result"
    }
   ],
   "source": [
    "predictor_test.columns"
   ]
  },
  {
   "cell_type": "code",
   "execution_count": 84,
   "id": "4aac823c",
   "metadata": {},
   "outputs": [],
   "source": [
    "# Scikit-Learn Pre-Processing Libraries\n",
    "from sklearn.model_selection import KFold\n",
    "\n",
    "# Model Evaluation Metric & Cross Validation Libraries\n",
    "from sklearn.metrics import roc_auc_score\n",
    "\n",
    "# Boosting Algorithm Librarie\n",
    "import xgboost\n",
    "from lightgbm import LGBMClassifier"
   ]
  },
  {
   "cell_type": "code",
   "execution_count": 85,
   "id": "68472f8c",
   "metadata": {},
   "outputs": [
    {
     "name": "stdout",
     "output_type": "stream",
     "text": [
      "\n",
      "Fold: 1\n",
      "\n",
      "[LightGBM] [Warning] bagging_fraction is set=0.95, subsample=1.0 will be ignored. Current value: bagging_fraction=0.95\n",
      "[100]\ttraining's auc: 0.878324\tvalid_1's auc: 0.873259\n",
      "\n",
      "Fold: 2\n",
      "\n",
      "[LightGBM] [Warning] bagging_fraction is set=0.95, subsample=1.0 will be ignored. Current value: bagging_fraction=0.95\n",
      "[100]\ttraining's auc: 0.878115\tvalid_1's auc: 0.873504\n",
      "\n",
      "Fold: 3\n",
      "\n",
      "[LightGBM] [Warning] bagging_fraction is set=0.95, subsample=1.0 will be ignored. Current value: bagging_fraction=0.95\n",
      "[100]\ttraining's auc: 0.878891\tvalid_1's auc: 0.866148\n",
      "\n",
      "Fold: 4\n",
      "\n",
      "[LightGBM] [Warning] bagging_fraction is set=0.95, subsample=1.0 will be ignored. Current value: bagging_fraction=0.95\n",
      "[100]\ttraining's auc: 0.877808\tvalid_1's auc: 0.875899\n",
      "\n",
      "Fold: 5\n",
      "\n",
      "[LightGBM] [Warning] bagging_fraction is set=0.95, subsample=1.0 will be ignored. Current value: bagging_fraction=0.95\n",
      "[100]\ttraining's auc: 0.878601\tvalid_1's auc: 0.868307\n",
      "[200]\ttraining's auc: 0.884101\tvalid_1's auc: 0.86788\n",
      "\n",
      "Fold: 6\n",
      "\n",
      "[LightGBM] [Warning] bagging_fraction is set=0.95, subsample=1.0 will be ignored. Current value: bagging_fraction=0.95\n",
      "[100]\ttraining's auc: 0.878648\tvalid_1's auc: 0.869891\n",
      "[200]\ttraining's auc: 0.884037\tvalid_1's auc: 0.869485\n",
      "\n",
      "Fold: 7\n",
      "\n",
      "[LightGBM] [Warning] bagging_fraction is set=0.95, subsample=1.0 will be ignored. Current value: bagging_fraction=0.95\n",
      "[100]\ttraining's auc: 0.878442\tvalid_1's auc: 0.870528\n",
      "\n",
      "Fold: 8\n",
      "\n",
      "[LightGBM] [Warning] bagging_fraction is set=0.95, subsample=1.0 will be ignored. Current value: bagging_fraction=0.95\n",
      "[100]\ttraining's auc: 0.87846\tvalid_1's auc: 0.870248\n",
      "\n",
      "Fold: 9\n",
      "\n",
      "[LightGBM] [Warning] bagging_fraction is set=0.95, subsample=1.0 will be ignored. Current value: bagging_fraction=0.95\n",
      "[100]\ttraining's auc: 0.878777\tvalid_1's auc: 0.870739\n",
      "\n",
      "Fold: 10\n",
      "\n",
      "[LightGBM] [Warning] bagging_fraction is set=0.95, subsample=1.0 will be ignored. Current value: bagging_fraction=0.95\n",
      "[100]\ttraining's auc: 0.878157\tvalid_1's auc: 0.875551\n"
     ]
    }
   ],
   "source": [
    "#Creation ML Model,Fine Tune with MODEL Evaluation METRIC - \"ROC_AUC\" with k-FOLD Cross Validation and Predict Target \"Response\"\n",
    "\n",
    "\n",
    "kf=KFold(n_splits=10,shuffle=True)\n",
    "\n",
    "preds   = list()\n",
    "y_pred  = []\n",
    "rocauc_score = []\n",
    "\n",
    "for i,(train_idx,val_idx) in enumerate(kf.split(predictor_train)):    \n",
    "    \n",
    "    X_train, y_train = predictor_train.iloc[train_idx,:], target_train.iloc[train_idx]    \n",
    "    X_val, y_val = predictor_train.iloc[val_idx, :], target_train.iloc[val_idx]\n",
    "   \n",
    "    print('\\nFold: {}\\n'.format(i+1))\n",
    "\n",
    "    lg = LGBMClassifier(metric = 'auc', \n",
    "                       n_estimators=10000,    \n",
    "                       bagging_fraction=0.95, \n",
    "                       subsample_freq = 2, \n",
    "                       objective =\"binary\",\n",
    "                       importance_type = \"gain\",\n",
    "                        class_weight='balanced',\n",
    "                       verbosity = -1,\n",
    "                       random_state=294,\n",
    "                       num_leaves = 300,\n",
    "                       boosting_type = 'gbdt',\n",
    "                       learning_rate=0.15,\n",
    "                       max_depth=5, \n",
    "                       scale_pos_weight=2,\n",
    "                       n_jobs=-1 \n",
    "                      )\n",
    "\n",
    "    lg.fit(X_train, y_train, eval_set=[(X_train, y_train),(X_val, y_val)] ,early_stopping_rounds=100 ,verbose=100)\n",
    "\n",
    "    roc_auc = roc_auc_score(y_val,lg.predict_proba(X_val)[:, 1])\n",
    "    rocauc_score.append(roc_auc)\n",
    "    preds.append(lg.predict_proba(predictor_test[predictor_test.columns])[:, 1])\n",
    "    \n",
    "y_pred_final = np.mean(preds,axis=0)    \n",
    "submission_df['Is_Lead']=y_pred_final"
   ]
  },
  {
   "cell_type": "code",
   "execution_count": 86,
   "id": "420906ab",
   "metadata": {},
   "outputs": [
    {
     "name": "stdout",
     "output_type": "stream",
     "text": [
      "ROC_AUC - CV Score: 0.8717515332852127 \n",
      "\n",
      "Score :  [0.8733288582708966, 0.874021931841187, 0.8667269035755467, 0.8763177466678543, 0.8685026501790716, 0.8701487701398585, 0.8711081290677172, 0.87038933447917, 0.8713471434332807, 0.8756238651975445]\n"
     ]
    }
   ],
   "source": [
    "print('ROC_AUC - CV Score: {}'.format((sum(rocauc_score)/10)),'\\n')\n",
    "print(\"Score : \",rocauc_score)"
   ]
  },
  {
   "cell_type": "code",
   "execution_count": 87,
   "id": "a0304e65",
   "metadata": {},
   "outputs": [
    {
     "data": {
      "text/plain": [
       "'sample_submmission'"
      ]
     },
     "metadata": {},
     "output_type": "display_data"
    },
    {
     "data": {
      "text/html": [
       "<div>\n",
       "<style scoped>\n",
       "    .dataframe tbody tr th:only-of-type {\n",
       "        vertical-align: middle;\n",
       "    }\n",
       "\n",
       "    .dataframe tbody tr th {\n",
       "        vertical-align: top;\n",
       "    }\n",
       "\n",
       "    .dataframe thead th {\n",
       "        text-align: right;\n",
       "    }\n",
       "</style>\n",
       "<table border=\"1\" class=\"dataframe\">\n",
       "  <thead>\n",
       "    <tr style=\"text-align: right;\">\n",
       "      <th></th>\n",
       "      <th>ID</th>\n",
       "      <th>Is_Lead</th>\n",
       "    </tr>\n",
       "  </thead>\n",
       "  <tbody>\n",
       "    <tr>\n",
       "      <th>0</th>\n",
       "      <td>VBENBARO</td>\n",
       "      <td>0.302005</td>\n",
       "    </tr>\n",
       "    <tr>\n",
       "      <th>1</th>\n",
       "      <td>CCMEWNKY</td>\n",
       "      <td>0.972895</td>\n",
       "    </tr>\n",
       "    <tr>\n",
       "      <th>2</th>\n",
       "      <td>VK3KGA9M</td>\n",
       "      <td>0.292567</td>\n",
       "    </tr>\n",
       "    <tr>\n",
       "      <th>3</th>\n",
       "      <td>TT8RPZVC</td>\n",
       "      <td>0.136785</td>\n",
       "    </tr>\n",
       "    <tr>\n",
       "      <th>4</th>\n",
       "      <td>SHQZEYTZ</td>\n",
       "      <td>0.137564</td>\n",
       "    </tr>\n",
       "    <tr>\n",
       "      <th>...</th>\n",
       "      <td>...</td>\n",
       "      <td>...</td>\n",
       "    </tr>\n",
       "    <tr>\n",
       "      <th>105307</th>\n",
       "      <td>DBENJOYI</td>\n",
       "      <td>0.993951</td>\n",
       "    </tr>\n",
       "    <tr>\n",
       "      <th>105308</th>\n",
       "      <td>CWQ72DWS</td>\n",
       "      <td>0.873969</td>\n",
       "    </tr>\n",
       "    <tr>\n",
       "      <th>105309</th>\n",
       "      <td>HDESC8GU</td>\n",
       "      <td>0.305588</td>\n",
       "    </tr>\n",
       "    <tr>\n",
       "      <th>105310</th>\n",
       "      <td>2PW4SFCA</td>\n",
       "      <td>0.620103</td>\n",
       "    </tr>\n",
       "    <tr>\n",
       "      <th>105311</th>\n",
       "      <td>F2NOYPPZ</td>\n",
       "      <td>0.268322</td>\n",
       "    </tr>\n",
       "  </tbody>\n",
       "</table>\n",
       "<p>105312 rows × 2 columns</p>\n",
       "</div>"
      ],
      "text/plain": [
       "              ID   Is_Lead\n",
       "0       VBENBARO  0.302005\n",
       "1       CCMEWNKY  0.972895\n",
       "2       VK3KGA9M  0.292567\n",
       "3       TT8RPZVC  0.136785\n",
       "4       SHQZEYTZ  0.137564\n",
       "...          ...       ...\n",
       "105307  DBENJOYI  0.993951\n",
       "105308  CWQ72DWS  0.873969\n",
       "105309  HDESC8GU  0.305588\n",
       "105310  2PW4SFCA  0.620103\n",
       "105311  F2NOYPPZ  0.268322\n",
       "\n",
       "[105312 rows x 2 columns]"
      ]
     },
     "metadata": {},
     "output_type": "display_data"
    },
    {
     "data": {
      "text/html": [
       "<div>\n",
       "<style scoped>\n",
       "    .dataframe tbody tr th:only-of-type {\n",
       "        vertical-align: middle;\n",
       "    }\n",
       "\n",
       "    .dataframe tbody tr th {\n",
       "        vertical-align: top;\n",
       "    }\n",
       "\n",
       "    .dataframe thead th {\n",
       "        text-align: right;\n",
       "    }\n",
       "</style>\n",
       "<table border=\"1\" class=\"dataframe\">\n",
       "  <thead>\n",
       "    <tr style=\"text-align: right;\">\n",
       "      <th></th>\n",
       "      <th>ID</th>\n",
       "      <th>Is_Lead</th>\n",
       "    </tr>\n",
       "  </thead>\n",
       "  <tbody>\n",
       "    <tr>\n",
       "      <th>0</th>\n",
       "      <td>VBENBARO</td>\n",
       "      <td>0.302005</td>\n",
       "    </tr>\n",
       "    <tr>\n",
       "      <th>1</th>\n",
       "      <td>CCMEWNKY</td>\n",
       "      <td>0.972895</td>\n",
       "    </tr>\n",
       "    <tr>\n",
       "      <th>2</th>\n",
       "      <td>VK3KGA9M</td>\n",
       "      <td>0.292567</td>\n",
       "    </tr>\n",
       "    <tr>\n",
       "      <th>3</th>\n",
       "      <td>TT8RPZVC</td>\n",
       "      <td>0.136785</td>\n",
       "    </tr>\n",
       "    <tr>\n",
       "      <th>4</th>\n",
       "      <td>SHQZEYTZ</td>\n",
       "      <td>0.137564</td>\n",
       "    </tr>\n",
       "  </tbody>\n",
       "</table>\n",
       "</div>"
      ],
      "text/plain": [
       "         ID   Is_Lead\n",
       "0  VBENBARO  0.302005\n",
       "1  CCMEWNKY  0.972895\n",
       "2  VK3KGA9M  0.292567\n",
       "3  TT8RPZVC  0.136785\n",
       "4  SHQZEYTZ  0.137564"
      ]
     },
     "execution_count": 87,
     "metadata": {},
     "output_type": "execute_result"
    }
   ],
   "source": [
    "# Download and Show Submission File :\n",
    "\n",
    "display(\"sample_submmission\",submission_df)\n",
    "sub_file_name_1 = \"AV_Hackathon_Credit_Card_Lead_Predication.csv\"\n",
    "submission_df.to_csv(sub_file_name_1,index=False)\n",
    "submission_df.head(5)"
   ]
  }
 ],
 "metadata": {
  "kernelspec": {
   "display_name": "Python 3",
   "language": "python",
   "name": "python3"
  },
  "language_info": {
   "codemirror_mode": {
    "name": "ipython",
    "version": 3
   },
   "file_extension": ".py",
   "mimetype": "text/x-python",
   "name": "python",
   "nbconvert_exporter": "python",
   "pygments_lexer": "ipython3",
   "version": "3.8.8"
  }
 },
 "nbformat": 4,
 "nbformat_minor": 5
}
